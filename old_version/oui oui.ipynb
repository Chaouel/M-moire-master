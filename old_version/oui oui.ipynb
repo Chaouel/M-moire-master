{
 "cells": [
  {
   "cell_type": "code",
   "execution_count": 203,
   "metadata": {},
   "outputs": [],
   "source": [
    "import numpy as np\n",
    "import numpy.random as npr\n",
    "import matplotlib.pyplot as plt\n",
    "import scipy.stats\n",
    "from scipy.spatial import Voronoi, voronoi_plot_2d\n"
   ]
  },
  {
   "cell_type": "markdown",
   "metadata": {},
   "source": [
    "# Quantification d'une loi continue"
   ]
  },
  {
   "cell_type": "markdown",
   "metadata": {},
   "source": [
    "Objectif : Minimiser la distortion"
   ]
  },
  {
   "cell_type": "markdown",
   "metadata": {},
   "source": [
    "### 1. Implémentation de la méthode de Lloyd pour la recherche des N centroïdes des cellules de Voronoï. (dim=1)"
   ]
  },
  {
   "cell_type": "markdown",
   "metadata": {},
   "source": [
    "On définit ci-dessous la fonction plus proche qui va calculé l'indice du centroïde le plus proche d'un point $X_{i}$ de notre échantillon $X_{cible}$.\n",
    "\n",
    "Cette fonction nous sera très utile car elle permet de calculer l'indice du centre le plus proche d'un point en fonction d'une liste de centres que l'on peut actualiser au fur et à mesure.\n",
    "\n",
    "Le principe est le suivant:\n",
    "\n",
    "* Initialisation: on initialise la distance minimal courante au float le plus large et l'indice à -1. Si on le retrouve en sortie d'algorithme on pourra voir s'il y a un problème.\n",
    "\n",
    "* Boucle sur la liste des centroïde: \n",
    "    1. On calcule la distance au centre de la cellule $C_{i}$ \n",
    "    2. On regarde si elle est plus petite que la distance minimale courante\n",
    "    3. On associe l'indice à l'indice courant de la boucle si la condition est vérifiée.\n",
    "\n",
    "\n",
    "\n"
   ]
  },
  {
   "cell_type": "code",
   "execution_count": 32,
   "metadata": {},
   "outputs": [],
   "source": [
    "\n",
    "def plusproche(Xi,lst_centre):\n",
    "    \"\"\"\n",
    "\n",
    "    Entrée:\n",
    "        Xi: Point i de notre échantillon cible parmis n points\n",
    "        lst_centre: Liste des N-quantificateurs au moment de l'appel de la fonction\n",
    "\n",
    "\n",
    "    Sortie:\n",
    "        indice: indice du centroïde le plus proche\n",
    "        dist_min: distance entre le point et le centre le plus proche\n",
    "\n",
    "    \"\"\"\n",
    "    dist_min_cour=float('inf') # initialisation de dist_cour arbitrairement grand pour simplifier la règle de décision\n",
    "    indice=-1 \n",
    "\n",
    "\n",
    "    for i,ci in enumerate(lst_centre): # enumerate nous permet d'avoir accès au compteur et à l'objet itéré\n",
    "        dist=np.abs(Xi-ci)**2 # Pour le cas muiltidimensionnel on remplace cette ligne par \"dist=np.linalg.norm(Xi-ci)**2\"\n",
    "        if(dist<dist_min_cour):\n",
    "            dist_min_cour=dist\n",
    "            indice=i\n",
    "\n",
    "    return indice,dist_min_cour\n",
    "    \n",
    "        "
   ]
  },
  {
   "cell_type": "markdown",
   "metadata": {},
   "source": [
    "Remarques: \n",
    "* On choisit ici de calculer les distances avec $ | X_{i} - C_{i} |^{2} \\ $ en dimension plutôt que la fonction np.linalg.norm car celle-ci rallonge considérablement les calculs.\n",
    "* Cependant dans le cadre multidimensionnel, il faudra utiliser np.linalg.norm."
   ]
  },
  {
   "cell_type": "code",
   "execution_count": 4,
   "metadata": {},
   "outputs": [],
   "source": [
    "def kmeans_Lloyd(X,N,kmax=300):\n",
    "    \n",
    "    \"\"\"\n",
    "    Entrée:\n",
    "        X: Echantillon de taille n x m suivant une densité f cible\n",
    "        N: Nombre de quantificateur:\n",
    "        kmax: nombre d'itération max\n",
    "    \n",
    "    Sortie:\n",
    "        lst_centre: liste finale des centroïdes\n",
    "        lst_proba: liste des probabilités associées aux centres\n",
    "        dist_tab: Tableau de l'évolution de la distortion\n",
    "\n",
    "\n",
    "    \"\"\"\n",
    "\n",
    "\n",
    "    # Initialisation pour éviter les problèmes d'affectations\n",
    "    X_cible=np.copy(X) # On récupère la taille de l'échantillon\n",
    "    n=len(X_cible)\n",
    "    lst_centre=npr.choice(X_cible,N) # N points choisis aléatoirement parmis l'échantillon\n",
    "    lst_centre=np.sort(lst_centre) # Tri des centres pour minimiser le problème de quantificateur isolée auquel aucun point n'est associé\n",
    "\n",
    "    dist_tab=[] # Récupération de l'évolution de la distortion\n",
    "\n",
    "    for it in range(kmax):\n",
    "    # Initialisation des variables courantes à l'itération it\n",
    "        Assignation_cour=np.zeros(N)  # pour une version multidimensionelle on peut remplacer la ligne par \" Assignation_cour=np.zeros((N,X_cible.shape[1]))\"\n",
    "        compteur_cour=np.zeros(N)\n",
    "        dist_total_it=0\n",
    "\n",
    "        for x in X_cible:\n",
    "            indice,dist_x=plusproche(x,lst_centre)\n",
    "\n",
    "            # Actualisation des variables courante pour calculer le nouveau centre associé aux indices et de la distortion\n",
    "            Assignation_cour[indice]=Assignation_cour[indice]+x\n",
    "            compteur_cour[indice]+=1\n",
    "            dist_total_it+=dist_x\n",
    "\n",
    "        # Actualisation des centres\n",
    "        for i in range(N):\n",
    "            if(compteur_cour[i]>0):\n",
    "                lst_centre[i]=Assignation_cour[i]/compteur_cour[i]\n",
    "            else:\n",
    "                lst_centre=lst_centre\n",
    "\n",
    "        dist_tab.append(dist_total_it/(2*n))\n",
    "\n",
    "    # Calcul des proba de chaque cellules\n",
    "    lst_proba=compteur_cour/n\n",
    "\n",
    "    return lst_centre, lst_proba, dist_tab\n"
   ]
  },
  {
   "cell_type": "code",
   "execution_count": 5,
   "metadata": {},
   "outputs": [],
   "source": [
    "n=1000\n",
    "N=20\n",
    "X_cible=npr.rand(n)\n",
    "\n",
    "lst_centre, lst_proba, dist_tab=kmeans_Lloyd(X=X_cible,N=N,kmax=100)"
   ]
  },
  {
   "cell_type": "code",
   "execution_count": 6,
   "metadata": {},
   "outputs": [
    {
     "data": {
      "text/plain": [
       "[<matplotlib.lines.Line2D at 0x19e032d32e0>]"
      ]
     },
     "execution_count": 6,
     "metadata": {},
     "output_type": "execute_result"
    },
    {
     "data": {
      "image/png": "[encoded data removed]",
      "text/plain": [
       "<Figure size 432x288 with 1 Axes>"
      ]
     },
     "metadata": {
      "needs_background": "light"
     },
     "output_type": "display_data"
    }
   ],
   "source": [
    "plt.plot(dist_tab)"
   ]
  },
  {
   "cell_type": "code",
   "execution_count": 7,
   "metadata": {},
   "outputs": [
    {
     "data": {
      "image/png": "[encoded data removed]",
      "text/plain": [
       "<Figure size 432x288 with 1 Axes>"
      ]
     },
     "metadata": {
      "needs_background": "light"
     },
     "output_type": "display_data"
    }
   ],
   "source": [
    "plt.plot(lst_centre,'.')\n",
    "x=np.linspace(0,1,N)\n",
    "plt.plot(x)\n",
    "plt.show()"
   ]
  },
  {
   "cell_type": "code",
   "execution_count": 8,
   "metadata": {},
   "outputs": [],
   "source": [
    "n=1000\n",
    "N=50\n",
    "X_cible=npr.normal(0,1,n)\n",
    "\n",
    "lst_centre, lst_proba, dist_tab=kmeans_Lloyd(X=X_cible,N=N,kmax=300)"
   ]
  },
  {
   "cell_type": "code",
   "execution_count": 9,
   "metadata": {},
   "outputs": [
    {
     "data": {
      "text/plain": [
       "[<matplotlib.lines.Line2D at 0x19e04406ee0>]"
      ]
     },
     "execution_count": 9,
     "metadata": {},
     "output_type": "execute_result"
    },
    {
     "data": {
      "image/png": "[encoded data removed]",
      "text/plain": [
       "<Figure size 432x288 with 1 Axes>"
      ]
     },
     "metadata": {
      "needs_background": "light"
     },
     "output_type": "display_data"
    }
   ],
   "source": [
    "plt.plot(dist_tab)\n"
   ]
  },
  {
   "cell_type": "code",
   "execution_count": null,
   "metadata": {},
   "outputs": [],
   "source": []
  },
  {
   "cell_type": "code",
   "execution_count": 10,
   "metadata": {},
   "outputs": [
    {
     "data": {
      "image/png": "[encoded data removed]",
      "text/plain": [
       "<Figure size 432x288 with 1 Axes>"
      ]
     },
     "metadata": {
      "needs_background": "light"
     },
     "output_type": "display_data"
    }
   ],
   "source": [
    "y=np.cumsum(lst_centre*-lst_proba)\n",
    "\n",
    "plt.plot(lst_centre,y,'.')\n",
    "\n",
    "x=np.linspace(-3,3,N)\n",
    "z=scipy.stats.norm.pdf(x,0,1)\n",
    "plt.plot(x,z)\n",
    "plt.show()"
   ]
  },
  {
   "cell_type": "code",
   "execution_count": 11,
   "metadata": {},
   "outputs": [
    {
     "ename": "NameError",
     "evalue": "name 'Voronoi' is not defined",
     "output_type": "error",
     "traceback": [
      "\u001b[1;31m---------------------------------------------------------------------------\u001b[0m",
      "\u001b[1;31mNameError\u001b[0m                                 Traceback (most recent call last)",
      "\u001b[1;32mc:\\Users\\allan\\Desktop\\Python\\quantificationv2.ipynb Cell 16\u001b[0m in \u001b[0;36m<cell line: 1>\u001b[1;34m()\u001b[0m\n\u001b[1;32m----> <a href='vscode-notebook-cell:/c%3A/Users/allan/Desktop/Python/quantificationv2.ipynb#X21sZmlsZQ%3D%3D?line=0'>1</a>\u001b[0m vor1\u001b[39m=\u001b[39mVoronoi(points\u001b[39m=\u001b[39mlst_centre)\n",
      "\u001b[1;31mNameError\u001b[0m: name 'Voronoi' is not defined"
     ]
    }
   ],
   "source": [
    "vor1=Voronoi(points=lst_centre)\n"
   ]
  },
  {
   "cell_type": "code",
   "execution_count": null,
   "metadata": {},
   "outputs": [
    {
     "data": {
      "text/plain": [
       "array([0.01 , 0.025, 0.052, 0.075, 0.107, 0.143, 0.173, 0.195, 0.218,\n",
       "       0.244, 0.265, 0.294, 0.315, 0.331, 0.35 , 0.368, 0.399, 0.427,\n",
       "       0.446, 0.465, 0.483, 0.494, 0.503, 0.513, 0.528, 0.547, 0.564,\n",
       "       0.58 , 0.599, 0.618, 0.641, 0.658, 0.673, 0.69 , 0.71 , 0.721,\n",
       "       0.733, 0.743, 0.765, 0.795, 0.825, 0.849, 0.879, 0.893, 0.908,\n",
       "       0.933, 0.96 , 0.977, 0.991, 1.   ])"
      ]
     },
     "execution_count": 12,
     "metadata": {},
     "output_type": "execute_result"
    }
   ],
   "source": [
    "y=np.cumsum(lst_proba)\n",
    "y"
   ]
  },
  {
   "cell_type": "markdown",
   "metadata": {},
   "source": [
    "### MULTIDIMENSIONNEL"
   ]
  },
  {
   "cell_type": "code",
   "execution_count": null,
   "metadata": {},
   "outputs": [],
   "source": [
    "def plusproche_d(Xi,lst_centre):\n",
    "    \"\"\"\n",
    "\n",
    "    Entrée:\n",
    "        Xi: Point i de notre échantillon cible parmis n points\n",
    "        lst_centre: Liste des N-quantificateurs au moment de l'appel de la fonction\n",
    "\n",
    "\n",
    "    Sortie:\n",
    "        indice: indice du centroïde le plus proche\n",
    "        dist_min: distance entre le point et le centre le plus proche\n",
    "\n",
    "    \"\"\"\n",
    "    dist_min_cour=float('inf') # initialisation de dist_cour arbitrairement grand pour simplifier la règle de décision\n",
    "    indice=-1 \n",
    "\n",
    "\n",
    "    for i,ci in enumerate(lst_centre): # enumerate nous permet d'avoir accès au compteur et à l'objet itéré\n",
    "        dist=np.linalg.norm(Xi-ci)**2 \n",
    "        if(dist<dist_min_cour):\n",
    "            dist_min_cour=dist\n",
    "            indice=i\n",
    "\n",
    "    return indice,dist_min_cour\n",
    "    "
   ]
  },
  {
   "cell_type": "code",
   "execution_count": null,
   "metadata": {},
   "outputs": [],
   "source": [
    "def kmeans_Lloyd_d(X,n,N,kmax=300):\n",
    "    \n",
    "    \"\"\"\n",
    "    Entrée:\n",
    "        X: Echantillon de taille n x m suivant une densité f cible\n",
    "        N: Nombre de quantificateur:\n",
    "        kmax: nombre d'itération max\n",
    "    \n",
    "    Sortie:\n",
    "        lst_centre: liste finale des centroïdes\n",
    "        lst_proba: liste des probabilités associées aux centres\n",
    "        dist_tab: Tableau de l'évolution de la distortion\n",
    "\n",
    "\n",
    "    \"\"\"\n",
    "\n",
    "\n",
    "    # Initialisation pour éviter les problèmes d'affectations\n",
    "    X_cible=np.copy(X) # On récupère la taille de l'échantillon\n",
    "    lst_centre=npr.normal(0, 1, size=[N, 2])\n",
    "    lst_centre=np.sort(lst_centre) # Tri des centres pour minimiser le problème de quantificateur isolée auquel aucun point n'est associé\n",
    "\n",
    "    dist_tab=[] # Récupération de l'évolution de la distortion\n",
    "\n",
    "    for it in range(kmax):\n",
    "    # Initialisation des variables courantes à l'itération it\n",
    "        Assignation_cour=np.zeros((N,X_cible.shape[1])) \n",
    "        compteur_cour=np.zeros(N)\n",
    "        dist_total_it=0\n",
    "\n",
    "        for x in X_cible:\n",
    "            indice,dist_x=plusproche_d(x,lst_centre)\n",
    "\n",
    "            # Actualisation des variables courante pour calculer le nouveau centre associé aux indices et de la distortion\n",
    "            Assignation_cour[indice]=Assignation_cour[indice]+x\n",
    "            compteur_cour[indice]+=1\n",
    "            dist_total_it+=dist_x\n",
    "\n",
    "        # Actualisation des centres\n",
    "        for i in range(N):\n",
    "            if(compteur_cour[i]>0):\n",
    "                lst_centre[i]=Assignation_cour[i]/compteur_cour[i]\n",
    "            else:\n",
    "                lst_centre=lst_centre\n",
    "\n",
    "        dist_tab.append(dist_total_it/(n))\n",
    "\n",
    "    # Calcul des proba de chaque cellules\n",
    "    lst_proba=compteur_cour/n\n",
    "\n",
    "    return lst_centre, lst_proba, dist_tab\n"
   ]
  },
  {
   "cell_type": "code",
   "execution_count": null,
   "metadata": {},
   "outputs": [],
   "source": [
    "n=1000\n",
    "N=50\n",
    "X_cible=npr.normal(0,1,size=[n,2])\n",
    "\n",
    "lst_centre, lst_proba, dist_tab=kmeans_Lloyd_d(X_cible,n,N,100)"
   ]
  },
  {
   "cell_type": "code",
   "execution_count": null,
   "metadata": {},
   "outputs": [
    {
     "name": "stdout",
     "output_type": "stream",
     "text": [
      "0.07541920953042199\n",
      "0.1414213562373095\n"
     ]
    },
    {
     "data": {
      "image/png": "[encoded data removed]",
      "text/plain": [
       "<Figure size 432x288 with 1 Axes>"
      ]
     },
     "metadata": {
      "needs_background": "light"
     },
     "output_type": "display_data"
    }
   ],
   "source": [
    "plt.plot(dist_tab)\n",
    "print(min(dist_tab))\n",
    "print(1/(N**(1/2)))\n"
   ]
  },
  {
   "cell_type": "code",
   "execution_count": null,
   "metadata": {},
   "outputs": [],
   "source": [
    "from scipy.spatial import Voronoi, voronoi_plot_2d"
   ]
  },
  {
   "cell_type": "code",
   "execution_count": null,
   "metadata": {},
   "outputs": [
    {
     "data": {
      "image/png": "[encoded data removed]",
      "text/plain": [
       "<Figure size 432x288 with 1 Axes>"
      ]
     },
     "metadata": {
      "needs_background": "light"
     },
     "output_type": "display_data"
    }
   ],
   "source": [
    "vor=Voronoi(lst_centre)\n",
    "fig = voronoi_plot_2d(vor,show_vertices=False)\n",
    "plt.show()"
   ]
  },
  {
   "cell_type": "code",
   "execution_count": null,
   "metadata": {},
   "outputs": [
    {
     "ename": "TypeError",
     "evalue": "float() argument must be a string or a number, not 'Delaunay'",
     "output_type": "error",
     "traceback": [
      "\u001b[1;31m---------------------------------------------------------------------------\u001b[0m",
      "\u001b[1;31mTypeError\u001b[0m                                 Traceback (most recent call last)",
      "\u001b[1;32mc:\\Users\\allan\\Desktop\\Python\\quantificationv2.ipynb Cell 25\u001b[0m in \u001b[0;36m<cell line: 1>\u001b[1;34m()\u001b[0m\n\u001b[1;32m----> <a href='vscode-notebook-cell:/c%3A/Users/allan/Desktop/Python/quantificationv2.ipynb#X40sZmlsZQ%3D%3D?line=0'>1</a>\u001b[0m plt\u001b[39m.\u001b[39;49mplot(scipy\u001b[39m.\u001b[39;49mspatial\u001b[39m.\u001b[39;49mDelaunay(lst_centre))\n",
      "File \u001b[1;32mc:\\Users\\allan\\anaconda3\\lib\\site-packages\\matplotlib\\pyplot.py:2757\u001b[0m, in \u001b[0;36mplot\u001b[1;34m(scalex, scaley, data, *args, **kwargs)\u001b[0m\n\u001b[0;32m   2755\u001b[0m \u001b[39m@_copy_docstring_and_deprecators\u001b[39m(Axes\u001b[39m.\u001b[39mplot)\n\u001b[0;32m   2756\u001b[0m \u001b[39mdef\u001b[39;00m \u001b[39mplot\u001b[39m(\u001b[39m*\u001b[39margs, scalex\u001b[39m=\u001b[39m\u001b[39mTrue\u001b[39;00m, scaley\u001b[39m=\u001b[39m\u001b[39mTrue\u001b[39;00m, data\u001b[39m=\u001b[39m\u001b[39mNone\u001b[39;00m, \u001b[39m*\u001b[39m\u001b[39m*\u001b[39mkwargs):\n\u001b[1;32m-> 2757\u001b[0m     \u001b[39mreturn\u001b[39;00m gca()\u001b[39m.\u001b[39mplot(\n\u001b[0;32m   2758\u001b[0m         \u001b[39m*\u001b[39margs, scalex\u001b[39m=\u001b[39mscalex, scaley\u001b[39m=\u001b[39mscaley,\n\u001b[0;32m   2759\u001b[0m         \u001b[39m*\u001b[39m\u001b[39m*\u001b[39m({\u001b[39m\"\u001b[39m\u001b[39mdata\u001b[39m\u001b[39m\"\u001b[39m: data} \u001b[39mif\u001b[39;00m data \u001b[39mis\u001b[39;00m \u001b[39mnot\u001b[39;00m \u001b[39mNone\u001b[39;00m \u001b[39melse\u001b[39;00m {}), \u001b[39m*\u001b[39m\u001b[39m*\u001b[39mkwargs)\n",
      "File \u001b[1;32mc:\\Users\\allan\\anaconda3\\lib\\site-packages\\matplotlib\\axes\\_axes.py:1634\u001b[0m, in \u001b[0;36mAxes.plot\u001b[1;34m(self, scalex, scaley, data, *args, **kwargs)\u001b[0m\n\u001b[0;32m   1632\u001b[0m lines \u001b[39m=\u001b[39m [\u001b[39m*\u001b[39m\u001b[39mself\u001b[39m\u001b[39m.\u001b[39m_get_lines(\u001b[39m*\u001b[39margs, data\u001b[39m=\u001b[39mdata, \u001b[39m*\u001b[39m\u001b[39m*\u001b[39mkwargs)]\n\u001b[0;32m   1633\u001b[0m \u001b[39mfor\u001b[39;00m line \u001b[39min\u001b[39;00m lines:\n\u001b[1;32m-> 1634\u001b[0m     \u001b[39mself\u001b[39;49m\u001b[39m.\u001b[39;49madd_line(line)\n\u001b[0;32m   1635\u001b[0m \u001b[39mself\u001b[39m\u001b[39m.\u001b[39m_request_autoscale_view(scalex\u001b[39m=\u001b[39mscalex, scaley\u001b[39m=\u001b[39mscaley)\n\u001b[0;32m   1636\u001b[0m \u001b[39mreturn\u001b[39;00m lines\n",
      "File \u001b[1;32mc:\\Users\\allan\\anaconda3\\lib\\site-packages\\matplotlib\\axes\\_base.py:2283\u001b[0m, in \u001b[0;36m_AxesBase.add_line\u001b[1;34m(self, line)\u001b[0m\n\u001b[0;32m   2280\u001b[0m \u001b[39mif\u001b[39;00m line\u001b[39m.\u001b[39mget_clip_path() \u001b[39mis\u001b[39;00m \u001b[39mNone\u001b[39;00m:\n\u001b[0;32m   2281\u001b[0m     line\u001b[39m.\u001b[39mset_clip_path(\u001b[39mself\u001b[39m\u001b[39m.\u001b[39mpatch)\n\u001b[1;32m-> 2283\u001b[0m \u001b[39mself\u001b[39;49m\u001b[39m.\u001b[39;49m_update_line_limits(line)\n\u001b[0;32m   2284\u001b[0m \u001b[39mif\u001b[39;00m \u001b[39mnot\u001b[39;00m line\u001b[39m.\u001b[39mget_label():\n\u001b[0;32m   2285\u001b[0m     line\u001b[39m.\u001b[39mset_label(\u001b[39mf\u001b[39m\u001b[39m'\u001b[39m\u001b[39m_child\u001b[39m\u001b[39m{\u001b[39;00m\u001b[39mlen\u001b[39m(\u001b[39mself\u001b[39m\u001b[39m.\u001b[39m_children)\u001b[39m}\u001b[39;00m\u001b[39m'\u001b[39m)\n",
      "File \u001b[1;32mc:\\Users\\allan\\anaconda3\\lib\\site-packages\\matplotlib\\axes\\_base.py:2306\u001b[0m, in \u001b[0;36m_AxesBase._update_line_limits\u001b[1;34m(self, line)\u001b[0m\n\u001b[0;32m   2302\u001b[0m \u001b[39mdef\u001b[39;00m \u001b[39m_update_line_limits\u001b[39m(\u001b[39mself\u001b[39m, line):\n\u001b[0;32m   2303\u001b[0m     \u001b[39m\"\"\"\u001b[39;00m\n\u001b[0;32m   2304\u001b[0m \u001b[39m    Figures out the data limit of the given line, updating self.dataLim.\u001b[39;00m\n\u001b[0;32m   2305\u001b[0m \u001b[39m    \"\"\"\u001b[39;00m\n\u001b[1;32m-> 2306\u001b[0m     path \u001b[39m=\u001b[39m line\u001b[39m.\u001b[39;49mget_path()\n\u001b[0;32m   2307\u001b[0m     \u001b[39mif\u001b[39;00m path\u001b[39m.\u001b[39mvertices\u001b[39m.\u001b[39msize \u001b[39m==\u001b[39m \u001b[39m0\u001b[39m:\n\u001b[0;32m   2308\u001b[0m         \u001b[39mreturn\u001b[39;00m\n",
      "File \u001b[1;32mc:\\Users\\allan\\anaconda3\\lib\\site-packages\\matplotlib\\lines.py:999\u001b[0m, in \u001b[0;36mLine2D.get_path\u001b[1;34m(self)\u001b[0m\n\u001b[0;32m    997\u001b[0m \u001b[39m\"\"\"Return the `~matplotlib.path.Path` associated with this line.\"\"\"\u001b[39;00m\n\u001b[0;32m    998\u001b[0m \u001b[39mif\u001b[39;00m \u001b[39mself\u001b[39m\u001b[39m.\u001b[39m_invalidy \u001b[39mor\u001b[39;00m \u001b[39mself\u001b[39m\u001b[39m.\u001b[39m_invalidx:\n\u001b[1;32m--> 999\u001b[0m     \u001b[39mself\u001b[39;49m\u001b[39m.\u001b[39;49mrecache()\n\u001b[0;32m   1000\u001b[0m \u001b[39mreturn\u001b[39;00m \u001b[39mself\u001b[39m\u001b[39m.\u001b[39m_path\n",
      "File \u001b[1;32mc:\\Users\\allan\\anaconda3\\lib\\site-packages\\matplotlib\\lines.py:657\u001b[0m, in \u001b[0;36mLine2D.recache\u001b[1;34m(self, always)\u001b[0m\n\u001b[0;32m    655\u001b[0m \u001b[39mif\u001b[39;00m always \u001b[39mor\u001b[39;00m \u001b[39mself\u001b[39m\u001b[39m.\u001b[39m_invalidy:\n\u001b[0;32m    656\u001b[0m     yconv \u001b[39m=\u001b[39m \u001b[39mself\u001b[39m\u001b[39m.\u001b[39mconvert_yunits(\u001b[39mself\u001b[39m\u001b[39m.\u001b[39m_yorig)\n\u001b[1;32m--> 657\u001b[0m     y \u001b[39m=\u001b[39m _to_unmasked_float_array(yconv)\u001b[39m.\u001b[39mravel()\n\u001b[0;32m    658\u001b[0m \u001b[39melse\u001b[39;00m:\n\u001b[0;32m    659\u001b[0m     y \u001b[39m=\u001b[39m \u001b[39mself\u001b[39m\u001b[39m.\u001b[39m_y\n",
      "File \u001b[1;32mc:\\Users\\allan\\anaconda3\\lib\\site-packages\\matplotlib\\cbook\\__init__.py:1298\u001b[0m, in \u001b[0;36m_to_unmasked_float_array\u001b[1;34m(x)\u001b[0m\n\u001b[0;32m   1296\u001b[0m     \u001b[39mreturn\u001b[39;00m np\u001b[39m.\u001b[39mma\u001b[39m.\u001b[39masarray(x, \u001b[39mfloat\u001b[39m)\u001b[39m.\u001b[39mfilled(np\u001b[39m.\u001b[39mnan)\n\u001b[0;32m   1297\u001b[0m \u001b[39melse\u001b[39;00m:\n\u001b[1;32m-> 1298\u001b[0m     \u001b[39mreturn\u001b[39;00m np\u001b[39m.\u001b[39;49masarray(x, \u001b[39mfloat\u001b[39;49m)\n",
      "\u001b[1;31mTypeError\u001b[0m: float() argument must be a string or a number, not 'Delaunay'"
     ]
    },
    {
     "data": {
      "image/png": "[encoded data removed]",
      "text/plain": [
       "<Figure size 432x288 with 1 Axes>"
      ]
     },
     "metadata": {
      "needs_background": "light"
     },
     "output_type": "display_data"
    }
   ],
   "source": [
    "scipy.spatial.Delaunay(lst_centre)"
   ]
  },
  {
   "cell_type": "code",
   "execution_count": null,
   "metadata": {},
   "outputs": [
    {
     "ename": "NameError",
     "evalue": "name 'npr' is not defined",
     "output_type": "error",
     "traceback": [
      "\u001b[1;31m---------------------------------------------------------------------------\u001b[0m",
      "\u001b[1;31mNameError\u001b[0m                                 Traceback (most recent call last)",
      "\u001b[1;32mc:\\Users\\allan\\Desktop\\Python\\quantificationv2.ipynb Cell 25\u001b[0m in \u001b[0;36m<cell line: 3>\u001b[1;34m()\u001b[0m\n\u001b[0;32m      <a href='vscode-notebook-cell:/c%3A/Users/allan/Desktop/Python/quantificationv2.ipynb#X33sZmlsZQ%3D%3D?line=0'>1</a>\u001b[0m n\u001b[39m=\u001b[39m\u001b[39m1000\u001b[39m\n\u001b[0;32m      <a href='vscode-notebook-cell:/c%3A/Users/allan/Desktop/Python/quantificationv2.ipynb#X33sZmlsZQ%3D%3D?line=1'>2</a>\u001b[0m N\u001b[39m=\u001b[39m\u001b[39m4\u001b[39m\n\u001b[1;32m----> <a href='vscode-notebook-cell:/c%3A/Users/allan/Desktop/Python/quantificationv2.ipynb#X33sZmlsZQ%3D%3D?line=2'>3</a>\u001b[0m X_cible\u001b[39m=\u001b[39mnpr\u001b[39m.\u001b[39mrand(n,\u001b[39m2\u001b[39m)\n\u001b[0;32m      <a href='vscode-notebook-cell:/c%3A/Users/allan/Desktop/Python/quantificationv2.ipynb#X33sZmlsZQ%3D%3D?line=3'>4</a>\u001b[0m lst_centre, lst_proba, dist_tab\u001b[39m=\u001b[39mkmeans_Lloyd_d(X_cible,n,N,\u001b[39m100\u001b[39m)\n\u001b[0;32m      <a href='vscode-notebook-cell:/c%3A/Users/allan/Desktop/Python/quantificationv2.ipynb#X33sZmlsZQ%3D%3D?line=4'>5</a>\u001b[0m vor\u001b[39m=\u001b[39mVoronoi(lst_centre)\n",
      "\u001b[1;31mNameError\u001b[0m: name 'npr' is not defined"
     ]
    }
   ],
   "source": [
    "n=1000\n",
    "N=4\n",
    "X_cible=npr.rand(n,2)\n",
    "lst_centre, lst_proba, dist_tab=kmeans_Lloyd_d(X_cible,n,N,100)\n",
    "vor=Voronoi(lst_centre)\n",
    "fig = voronoi_plot_2d(vor,show_vertices=False)\n",
    "plt.show()"
   ]
  },
  {
   "cell_type": "code",
   "execution_count": null,
   "metadata": {},
   "outputs": [
    {
     "ename": "ValueError",
     "evalue": "operands could not be broadcast together with shapes (1000,) (2,) ",
     "output_type": "error",
     "traceback": [
      "\u001b[1;31m---------------------------------------------------------------------------\u001b[0m",
      "\u001b[1;31mValueError\u001b[0m                                Traceback (most recent call last)",
      "\u001b[1;32mc:\\Users\\allan\\Desktop\\Python\\quantificationv2.ipynb Cell 26\u001b[0m in \u001b[0;36m<cell line: 5>\u001b[1;34m()\u001b[0m\n\u001b[0;32m      <a href='vscode-notebook-cell:/c%3A/Users/allan/Desktop/Python/quantificationv2.ipynb#X61sZmlsZQ%3D%3D?line=1'>2</a>\u001b[0m y\u001b[39m=\u001b[39mnpr\u001b[39m.\u001b[39mrand(n)\n\u001b[0;32m      <a href='vscode-notebook-cell:/c%3A/Users/allan/Desktop/Python/quantificationv2.ipynb#X61sZmlsZQ%3D%3D?line=2'>3</a>\u001b[0m X_cible\u001b[39m=\u001b[39m[x,y]\n\u001b[1;32m----> <a href='vscode-notebook-cell:/c%3A/Users/allan/Desktop/Python/quantificationv2.ipynb#X61sZmlsZQ%3D%3D?line=4'>5</a>\u001b[0m lst_centre, lst_proba, dist_tab\u001b[39m=\u001b[39mkmeans_Lloyd_d(X_cible,n,N,\u001b[39m100\u001b[39;49m)\n\u001b[0;32m      <a href='vscode-notebook-cell:/c%3A/Users/allan/Desktop/Python/quantificationv2.ipynb#X61sZmlsZQ%3D%3D?line=5'>6</a>\u001b[0m vor\u001b[39m=\u001b[39mVoronoi(lst_centre)\n\u001b[0;32m      <a href='vscode-notebook-cell:/c%3A/Users/allan/Desktop/Python/quantificationv2.ipynb#X61sZmlsZQ%3D%3D?line=6'>7</a>\u001b[0m fig \u001b[39m=\u001b[39m voronoi_plot_2d(vor,show_vertices\u001b[39m=\u001b[39m\u001b[39mFalse\u001b[39;00m)\n",
      "\u001b[1;32mc:\\Users\\allan\\Desktop\\Python\\quantificationv2.ipynb Cell 26\u001b[0m in \u001b[0;36mkmeans_Lloyd_d\u001b[1;34m(X, n, N, kmax)\u001b[0m\n\u001b[0;32m     <a href='vscode-notebook-cell:/c%3A/Users/allan/Desktop/Python/quantificationv2.ipynb#X61sZmlsZQ%3D%3D?line=28'>29</a>\u001b[0m dist_total_it\u001b[39m=\u001b[39m\u001b[39m0\u001b[39m\n\u001b[0;32m     <a href='vscode-notebook-cell:/c%3A/Users/allan/Desktop/Python/quantificationv2.ipynb#X61sZmlsZQ%3D%3D?line=30'>31</a>\u001b[0m \u001b[39mfor\u001b[39;00m x \u001b[39min\u001b[39;00m X_cible:\n\u001b[1;32m---> <a href='vscode-notebook-cell:/c%3A/Users/allan/Desktop/Python/quantificationv2.ipynb#X61sZmlsZQ%3D%3D?line=31'>32</a>\u001b[0m     indice,dist_x\u001b[39m=\u001b[39mplusproche_d(x,lst_centre)\n\u001b[0;32m     <a href='vscode-notebook-cell:/c%3A/Users/allan/Desktop/Python/quantificationv2.ipynb#X61sZmlsZQ%3D%3D?line=33'>34</a>\u001b[0m     \u001b[39m# Actualisation des variables courante pour calculer le nouveau centre associé aux indices et de la distortion\u001b[39;00m\n\u001b[0;32m     <a href='vscode-notebook-cell:/c%3A/Users/allan/Desktop/Python/quantificationv2.ipynb#X61sZmlsZQ%3D%3D?line=34'>35</a>\u001b[0m     Assignation_cour[indice]\u001b[39m=\u001b[39mAssignation_cour[indice]\u001b[39m+\u001b[39mx\n",
      "\u001b[1;32mc:\\Users\\allan\\Desktop\\Python\\quantificationv2.ipynb Cell 26\u001b[0m in \u001b[0;36mplusproche_d\u001b[1;34m(Xi, lst_centre)\u001b[0m\n\u001b[0;32m     <a href='vscode-notebook-cell:/c%3A/Users/allan/Desktop/Python/quantificationv2.ipynb#X61sZmlsZQ%3D%3D?line=14'>15</a>\u001b[0m indice\u001b[39m=\u001b[39m\u001b[39m-\u001b[39m\u001b[39m1\u001b[39m \n\u001b[0;32m     <a href='vscode-notebook-cell:/c%3A/Users/allan/Desktop/Python/quantificationv2.ipynb#X61sZmlsZQ%3D%3D?line=17'>18</a>\u001b[0m \u001b[39mfor\u001b[39;00m i,ci \u001b[39min\u001b[39;00m \u001b[39menumerate\u001b[39m(lst_centre): \u001b[39m# enumerate nous permet d'avoir accès au compteur et à l'objet itéré\u001b[39;00m\n\u001b[1;32m---> <a href='vscode-notebook-cell:/c%3A/Users/allan/Desktop/Python/quantificationv2.ipynb#X61sZmlsZQ%3D%3D?line=18'>19</a>\u001b[0m     dist\u001b[39m=\u001b[39mnp\u001b[39m.\u001b[39mlinalg\u001b[39m.\u001b[39mnorm(Xi\u001b[39m-\u001b[39;49mci)\u001b[39m*\u001b[39m\u001b[39m*\u001b[39m\u001b[39m2\u001b[39m \n\u001b[0;32m     <a href='vscode-notebook-cell:/c%3A/Users/allan/Desktop/Python/quantificationv2.ipynb#X61sZmlsZQ%3D%3D?line=19'>20</a>\u001b[0m     \u001b[39mif\u001b[39;00m(dist\u001b[39m<\u001b[39mdist_min_cour):\n\u001b[0;32m     <a href='vscode-notebook-cell:/c%3A/Users/allan/Desktop/Python/quantificationv2.ipynb#X61sZmlsZQ%3D%3D?line=20'>21</a>\u001b[0m         dist_min_cour\u001b[39m=\u001b[39mdist\n",
      "\u001b[1;31mValueError\u001b[0m: operands could not be broadcast together with shapes (1000,) (2,) "
     ]
    }
   ],
   "source": [
    "x=npr.rand(n)\n",
    "y=npr.rand(n)\n",
    "X_cible=[x,y]\n",
    "\n",
    "lst_centre, lst_proba, dist_tab=kmeans_Lloyd_d(X_cible,n,N,100)\n",
    "vor=Voronoi(lst_centre)\n",
    "fig = voronoi_plot_2d(vor,show_vertices=False)\n",
    "plt.show()"
   ]
  },
  {
   "cell_type": "markdown",
   "metadata": {},
   "source": [
    "1. Item 1\n",
    "2. Item 2 ( we can type 1. and the markdown will automatically numerate them) \n",
    "* First Item\n",
    "  * Nested item 1\n",
    "  * Nested item 2\n",
    "    1. Keep going\n",
    "    1. Yes\n",
    "  \n",
    "* Second Item\n",
    "- First Item\n",
    "- Second Item"
   ]
  },
  {
   "cell_type": "markdown",
   "metadata": {},
   "source": [
    "Gradient à pas déterministe:"
   ]
  },
  {
   "cell_type": "markdown",
   "metadata": {},
   "source": [
    "On ne mets pas l'échantillon X en paramètre de la fonction parce que nous l'initialisons à l'intérieur de l'algorithme puisque nous allons nous concentrer sur la loi normale en dimension $d>=1$"
   ]
  },
  {
   "cell_type": "code",
   "execution_count": 78,
   "metadata": {},
   "outputs": [],
   "source": [
    "def grad_list(lst_centre):    \n",
    "    N=len(lst_centre)\n",
    "    grad=np.zeros(N)\n",
    "    phi_plus=np.zeros(N)\n",
    "    phi_moins=np.zeros(N)\n",
    "    densi_plus=np.zeros(N)\n",
    "    densi_moins=np.zeros(N)\n",
    "    \n",
    "    #On s'occupe d'abord des bords de la liste comme on actualise centre par rapport au précedent et au suivant dans la liste \n",
    "    \n",
    "    grad[0]=lst_centre[0]*(scipy.stats.norm.cdf((lst_centre[0]+lst_centre[1])/2)+scipy.stats.norm.pdf((lst_centre[0]+lst_centre[1])/2)\n",
    "    grad[N-1]=-lst_centre[N-1]*scipy.stats.norm.cdf((lst_centre[N-1]+lst_centre[N-2])/2)-scipy.stats.norm.pdf((lst_centre[N-1]+lst_centre[N-2])/2)\n",
    "    \n",
    "    for i in range(1,N-1):\n",
    "        phi_plus[i]=scipy.stats.norm.cdf((lst_centre[i]+lst_centre[i+1])/2)\n",
    "        phi_moins[i]=scipy.stats.norm.cdf((lst_centre[i]+lst_centre[i-1])/2)\n",
    "        densi_plus[i]=scipy.stats.norm.pdf((lst_centre[i]+lst_centre[i+1])/2)\n",
    "        densi_moins[i]=scipy.stats.norm.pdf((lst_centre[i]+lst_centre[i-1])/2)\n",
    "        \n",
    "        \n",
    "    grad=lst_centre*(phi_plus-phi_moins)+densi_plus-densi_moins\n",
    "    return grad"
   ]
  },
  {
   "cell_type": "code",
   "execution_count": 232,
   "metadata": {},
   "outputs": [],
   "source": [
    "def method_Grad_normal(X,N,gammainit,kmax=300,tol=5e-1):\n",
    "    # Initialisation pour éviter les problèmes d'affectations\n",
    "    X_cible=np.copy(X)\n",
    "    lst_centre=npr.normal(0, 1, N)\n",
    "    lst_centre = np.sort(lst_centre)\n",
    "    dist_cour=1\n",
    "    dist_tab=[] # Récupération de l'évolution de la distortion\n",
    "    compteur=np.zeros(N)\n",
    "    it=1\n",
    "    \n",
    "    while(it<kmax and dist_cour>tol):\n",
    "        compteur_cour=np.zeros(N)\n",
    "        dist_cour=0\n",
    "        gamma=gammainit\n",
    "        lst_centre=lst_centre-gamma*grad_list(lst_centre)\n",
    "        \n",
    "        for x in X_cible:\n",
    "            indice,dist_x=plusproche(x,lst_centre)\n",
    "            dist_cour=dist_cour+dist_x\n",
    "        dist_tab.append(dist_cour/n)\n",
    "        it+=1\n",
    "        \n",
    "    for x in X_cible:\n",
    "            indice,dist_x=plusproche(x,lst_centre)\n",
    "            compteur[indice]+=1\n",
    "    lst_proba=compteur/n\n",
    "    return lst_centre,lst_proba,dist_tab"
   ]
  },
  {
   "cell_type": "code",
   "execution_count": 233,
   "metadata": {},
   "outputs": [],
   "source": [
    "npr.seed(200)\n",
    "n=1000\n",
    "N=10\n",
    "X_cible=npr.normal(0,1,n)\n",
    "\n",
    "lst_centre_grad, lst_proba_grad, dist_tab_grad=method_Grad_normal(X_cible,N,0.4,kmax=300)"
   ]
  },
  {
   "cell_type": "code",
   "execution_count": 234,
   "metadata": {},
   "outputs": [
    {
     "name": "stdout",
     "output_type": "stream",
     "text": [
      "0.06006425091179863\n"
     ]
    },
    {
     "data": {
      "image/png": "[encoded data removed]",
      "text/plain": [
       "<Figure size 640x480 with 1 Axes>"
      ]
     },
     "metadata": {},
     "output_type": "display_data"
    }
   ],
   "source": [
    "plt.plot(dist_tab_grad)\n",
    "print(min(dist_tab_grad))"
   ]
  },
  {
   "cell_type": "code",
   "execution_count": 172,
   "metadata": {},
   "outputs": [
    {
     "name": "stdout",
     "output_type": "stream",
     "text": [
      "1.0\n",
      "[-1.58688271 -0.8912949  -0.20985345  0.02969548  0.32671882  0.78896483\n",
      "  0.79388667  0.87822149  0.98670144  1.01530727]\n"
     ]
    }
   ],
   "source": [
    "a = np.sort(lst_centre_grad)\n",
    "print(sum(lst_proba_grad))\n",
    "print(a)"
   ]
  },
  {
   "cell_type": "code",
   "execution_count": null,
   "metadata": {},
   "outputs": [],
   "source": []
  }
 ],
 "metadata": {
  "kernelspec": {
   "display_name": "Python 3 (ipykernel)",
   "language": "python",
   "name": "python3"
  },
  "language_info": {
   "codemirror_mode": {
    "name": "ipython",
    "version": 3
   },
   "file_extension": ".py",
   "mimetype": "text/x-python",
   "name": "python",
   "nbconvert_exporter": "python",
   "pygments_lexer": "ipython3",
   "version": "3.9.16"
  }
 },
 "nbformat": 4,
 "nbformat_minor": 4
}
