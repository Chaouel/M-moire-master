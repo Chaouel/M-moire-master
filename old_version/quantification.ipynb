{
 "cells": [
  {
   "cell_type": "code",
   "execution_count": 8,
   "metadata": {},
   "outputs": [],
   "source": [
    "import numpy as np\n",
    "import numpy.random as npr\n",
    "import matplotlib.pyplot as plt\n",
    "import scipy.stats\n"
   ]
  },
  {
   "attachments": {},
   "cell_type": "markdown",
   "metadata": {},
   "source": [
    "# Quantification d'une loi continue"
   ]
  },
  {
   "attachments": {},
   "cell_type": "markdown",
   "metadata": {},
   "source": [
    "Implémentation de la méthode de Lloyd pour la recherche des N centroïdes des cellules de Voronoï. (dim=1)"
   ]
  },
  {
   "attachments": {},
   "cell_type": "markdown",
   "metadata": {},
   "source": [
    "Objectif : Minimiser la distortion"
   ]
  },
  {
   "cell_type": "code",
   "execution_count": 232,
   "metadata": {},
   "outputs": [
    {
     "data": {
      "text/plain": [
       "'\"\\nEntrée:\\n    X_cible: array n points de X v.a continue\\n    N: nb de centroides que l\\'on veut\\n    tol: 1e-5\\n    kmax: nombre d\\'itération max\\n\\nn=1000\\nN=10\\nk_max=3000\\ntol=1e-5\\n\\nX_cible=np.zeros((n,1))\\ncentro=np.zeros((N,1)) # Choisir des points aléatoires sur la densité cible\\nAssignation=np.zeros((n,1))\\n\\ncompt=0\\ndist_cour=1\\nwhile dist_cour>tol:\\n    \\n    ## Recherche des centres les plus proches et assignation.\\n\\n    for i in range(n):\\n        Tab_temp=np.zeros((N,1))\\n        for j in range(N):\\n            Tab_temp[j]=np.abs(X_cible[i]-centro[j])\\n        print(\"Tableau \",Tab_temp)\\n        K=np.argmin(Tab_temp)\\n        Assignation[i]=centro[K]\\n        \\n    ## Actualisation des centres\\n   \\n    for i in range(N):\\n        Tab_temp=np.where(Assignation==centro[i])[0]\\n        tab_temp2=[]\\n        for j in (Tab_temp):\\n            tab_temp2.append(X_cible[j])\\n        \\n        centro[i]=np.mean(tab_temp2)\\n\\n        \\n    compt+=1\\n    \\n    dist_cour=np.mean(np.abs(X_cible-Assignation)**2)\\n    \\n\\n\\nSortie:\\n    quanti_N: N centroïdes qui minimise la distortion\\n    dist_tab: l\\'évolution de la distortion en fonction des itérations\\n    \\n\\n'"
      ]
     },
     "execution_count": 232,
     "metadata": {},
     "output_type": "execute_result"
    }
   ],
   "source": [
    "\n",
    "\"\"\"\"\n",
    "Entrée:\n",
    "    X_cible: array n points de X v.a continue\n",
    "    N: nb de centroides que l'on veut\n",
    "    tol: 1e-5\n",
    "    kmax: nombre d'itération max\n",
    "\n",
    "n=1000\n",
    "N=10\n",
    "k_max=3000\n",
    "tol=1e-5\n",
    "\n",
    "X_cible=np.zeros((n,1))\n",
    "centro=np.zeros((N,1)) # Choisir des points aléatoires sur la densité cible\n",
    "Assignation=np.zeros((n,1))\n",
    "\n",
    "compt=0\n",
    "dist_cour=1\n",
    "while dist_cour>tol:\n",
    "    \n",
    "    ## Recherche des centres les plus proches et assignation.\n",
    "\n",
    "    for i in range(n):\n",
    "        Tab_temp=np.zeros((N,1))\n",
    "        for j in range(N):\n",
    "            Tab_temp[j]=np.abs(X_cible[i]-centro[j])\n",
    "        print(\"Tableau \",Tab_temp)\n",
    "        K=np.argmin(Tab_temp)\n",
    "        Assignation[i]=centro[K]\n",
    "        \n",
    "    ## Actualisation des centres\n",
    "   \n",
    "    for i in range(N):\n",
    "        Tab_temp=np.where(Assignation==centro[i])[0]\n",
    "        tab_temp2=[]\n",
    "        for j in (Tab_temp):\n",
    "            tab_temp2.append(X_cible[j])\n",
    "        \n",
    "        centro[i]=np.mean(tab_temp2)\n",
    "\n",
    "        \n",
    "    compt+=1\n",
    "    \n",
    "    dist_cour=np.mean(np.abs(X_cible-Assignation)**2)\n",
    "    \n",
    "\n",
    "\n",
    "Sortie:\n",
    "    quanti_N: N centroïdes qui minimise la distortion\n",
    "    dist_tab: l'évolution de la distortion en fonction des itérations\n",
    "    \n",
    "\n",
    "\"\"\""
   ]
  },
  {
   "cell_type": "code",
   "execution_count": 19,
   "metadata": {},
   "outputs": [],
   "source": [
    "def kmeans_Lloyd(X,N,kmax=300):\n",
    "    \n",
    "    \"\"\"\n",
    "    Entrée:\n",
    "        X: Echantillon de taille n x m suivant une densité f cible\n",
    "        N: Nombre de quantificateur:\n",
    "        kmax: nombre d'itération max\n",
    "    \n",
    "    Sortie:\n",
    "        lst_centre: liste finale des centroïdes\n",
    "        lst_proba: liste des probabilités associées aux centres\n",
    "        dist_tab: Tableau de l'évolution de la distortion\n",
    "\n",
    "\n",
    "    \"\"\"\n",
    "\n",
    "\n",
    "    # Initialisation pour éviter les problèmes d'affectations\n",
    "    X_cible=np.copy(X) # On récupère la taille de l'échantillon\n",
    "    n=len(X_cible)\n",
    "    lst_centre=npr.choice(X_cible,N)\n",
    "    lst_centre=np.sort(lst_centre) # Tri des centres pour minimiser le problème de quantificateur isolée auquel aucun point n'est associé\n",
    "\n",
    "    dist_tab=[] # Récupération de l'évolution de la distortion\n",
    "\n",
    "    for it in range(kmax):\n",
    "    # Initialisation des variables courantes à l'itération it\n",
    "        Assignation_cour=np.zeros(N)  # pour une version multidimensionelle on peut remplacer la ligne par \" Assignation_cour=np.zeros((N,X_cible.shape[1]))\"\n",
    "        compteur_cour=np.zeros(N)\n",
    "        dist_total_it=0\n",
    "\n",
    "        for x in X_cible:\n",
    "            indice,dist_x=plusproche(x,lst_centre)\n",
    "\n",
    "            # Actualisation des variables courante pour calculer le nouveau centre associé aux indices et de la distortion\n",
    "            Assignation_cour[indice]=Assignation_cour[indice]+x\n",
    "            compteur_cour[indice]+=1\n",
    "            dist_total_it+=dist_x\n",
    "\n",
    "        # Actualisation des centres\n",
    "        for i in range(N):\n",
    "            if(compteur_cour[i]>0):\n",
    "                lst_centre[i]=Assignation_cour[i]/compteur_cour[i]\n",
    "            else:\n",
    "                lst_centre=lst_centre\n",
    "\n",
    "        dist_tab.append(dist_total_it)\n",
    "\n",
    "    # Calcul des proba de chaque cellules\n",
    "    lst_proba=compteur_cour/n\n",
    "\n",
    "    return lst_centre, lst_proba, dist_tab\n"
   ]
  },
  {
   "attachments": {},
   "cell_type": "markdown",
   "metadata": {},
   "source": [
    "On définit ci-dessous la fonction plus proche qui va calculé l'indice du centroïde le plus proche d'un point $X_{i}$ de notre échantillon $X_{cible}$.\n",
    "\n",
    "Le principe est le suivant:\n",
    "\n",
    "* Initialisation: on initialise la distance minimal courante au float le plus large et l'indice à -1. Si on le retrouve en sortie d'algorithme on pourra voir s'il y a un problème.\n",
    "\n",
    "* Boucle sur la liste des centroïde: \n",
    "    1. On calcule la distance au centre de la cellule $C_{i}$ \n",
    "    2. On regarde si elle est plus petite que la distance minimale courante\n",
    "    3. On associe l'indice à l'indice courant de la boucle si la condition est vérifiée.\n",
    "\n",
    "\n",
    "\n"
   ]
  },
  {
   "cell_type": "code",
   "execution_count": 15,
   "metadata": {},
   "outputs": [],
   "source": [
    "\n",
    "def plusproche(Xi,lst_centre):\n",
    "    \"\"\"\n",
    "\n",
    "    Entrée:\n",
    "        Xi: Point i de notre échantillon cible parmis n points\n",
    "        lst_centre: Liste des N-quantificateurs au moment de l'appel de la fonction\n",
    "\n",
    "\n",
    "    Sortie:\n",
    "        indice: indice du centroïde le plus proche\n",
    "        dist_min: distortion locale\n",
    "\n",
    "    \"\"\"\n",
    "    dist_min=sys.float_info.max # initialisation de dist_cour arbitrairement grand pour simplifier la règle de décision\n",
    "    indice=-1 \n",
    "\n",
    "\n",
    "    for i,ci in enumerate(lst_centre): # enumerate nous permet d'avoir accès au compteur et à l'objet itéré\n",
    "        dist=np.abs(Xi-ci)**2\n",
    "        if(dist<dist_min_cour):\n",
    "            dist_min_cour=dist\n",
    "            indice=i\n",
    "\n",
    "    return indice,dist_min\n",
    "    \n",
    "        "
   ]
  },
  {
   "cell_type": "code",
   "execution_count": 20,
   "metadata": {},
   "outputs": [
    {
     "ename": "NameError",
     "evalue": "name 'sys' is not defined",
     "output_type": "error",
     "traceback": [
      "\u001b[1;31m---------------------------------------------------------------------------\u001b[0m",
      "\u001b[1;31mNameError\u001b[0m                                 Traceback (most recent call last)",
      "\u001b[1;32mc:\\Users\\allan\\Desktop\\Python\\quantification.ipynb Cell 9\u001b[0m in \u001b[0;36m<cell line: 6>\u001b[1;34m()\u001b[0m\n\u001b[0;32m      <a href='vscode-notebook-cell:/c%3A/Users/allan/Desktop/Python/quantification.ipynb#X34sZmlsZQ%3D%3D?line=1'>2</a>\u001b[0m N\u001b[39m=\u001b[39m\u001b[39m20\u001b[39m\n\u001b[0;32m      <a href='vscode-notebook-cell:/c%3A/Users/allan/Desktop/Python/quantification.ipynb#X34sZmlsZQ%3D%3D?line=3'>4</a>\u001b[0m X_cible\u001b[39m=\u001b[39mnpr\u001b[39m.\u001b[39mrand(n)\n\u001b[1;32m----> <a href='vscode-notebook-cell:/c%3A/Users/allan/Desktop/Python/quantification.ipynb#X34sZmlsZQ%3D%3D?line=5'>6</a>\u001b[0m lst_centre, lst_proba, dist_tab\u001b[39m=\u001b[39mkmeans_Lloyd(X\u001b[39m=\u001b[39;49mX_cible,N\u001b[39m=\u001b[39;49mN,kmax\u001b[39m=\u001b[39;49m\u001b[39m100\u001b[39;49m)\n",
      "\u001b[1;32mc:\\Users\\allan\\Desktop\\Python\\quantification.ipynb Cell 9\u001b[0m in \u001b[0;36mkmeans_Lloyd\u001b[1;34m(X, N, kmax)\u001b[0m\n\u001b[0;32m     <a href='vscode-notebook-cell:/c%3A/Users/allan/Desktop/Python/quantification.ipynb#X34sZmlsZQ%3D%3D?line=29'>30</a>\u001b[0m dist_total_it\u001b[39m=\u001b[39m\u001b[39m0\u001b[39m\n\u001b[0;32m     <a href='vscode-notebook-cell:/c%3A/Users/allan/Desktop/Python/quantification.ipynb#X34sZmlsZQ%3D%3D?line=31'>32</a>\u001b[0m \u001b[39mfor\u001b[39;00m x \u001b[39min\u001b[39;00m X_cible:\n\u001b[1;32m---> <a href='vscode-notebook-cell:/c%3A/Users/allan/Desktop/Python/quantification.ipynb#X34sZmlsZQ%3D%3D?line=32'>33</a>\u001b[0m     indice,dist_x\u001b[39m=\u001b[39mplusproche(x,lst_centre)\n\u001b[0;32m     <a href='vscode-notebook-cell:/c%3A/Users/allan/Desktop/Python/quantification.ipynb#X34sZmlsZQ%3D%3D?line=34'>35</a>\u001b[0m     \u001b[39m# Actualisation des variables courante pour calculer le nouveau centre associé aux indices et de la distortion\u001b[39;00m\n\u001b[0;32m     <a href='vscode-notebook-cell:/c%3A/Users/allan/Desktop/Python/quantification.ipynb#X34sZmlsZQ%3D%3D?line=35'>36</a>\u001b[0m     Assignation_cour[indice]\u001b[39m=\u001b[39mAssignation_cour[indice]\u001b[39m+\u001b[39mx\n",
      "\u001b[1;32mc:\\Users\\allan\\Desktop\\Python\\quantification.ipynb Cell 9\u001b[0m in \u001b[0;36mplusproche\u001b[1;34m(Xi, lst_centre)\u001b[0m\n\u001b[0;32m      <a href='vscode-notebook-cell:/c%3A/Users/allan/Desktop/Python/quantification.ipynb#X34sZmlsZQ%3D%3D?line=0'>1</a>\u001b[0m \u001b[39mdef\u001b[39;00m \u001b[39mplusproche\u001b[39m(Xi,lst_centre):\n\u001b[0;32m      <a href='vscode-notebook-cell:/c%3A/Users/allan/Desktop/Python/quantification.ipynb#X34sZmlsZQ%3D%3D?line=1'>2</a>\u001b[0m     \u001b[39m\"\"\"\u001b[39;00m\n\u001b[0;32m      <a href='vscode-notebook-cell:/c%3A/Users/allan/Desktop/Python/quantification.ipynb#X34sZmlsZQ%3D%3D?line=2'>3</a>\u001b[0m \n\u001b[0;32m      <a href='vscode-notebook-cell:/c%3A/Users/allan/Desktop/Python/quantification.ipynb#X34sZmlsZQ%3D%3D?line=3'>4</a>\u001b[0m \u001b[39m    Entrée:\u001b[39;00m\n\u001b[1;32m   (...)\u001b[0m\n\u001b[0;32m     <a href='vscode-notebook-cell:/c%3A/Users/allan/Desktop/Python/quantification.ipynb#X34sZmlsZQ%3D%3D?line=11'>12</a>\u001b[0m \n\u001b[0;32m     <a href='vscode-notebook-cell:/c%3A/Users/allan/Desktop/Python/quantification.ipynb#X34sZmlsZQ%3D%3D?line=12'>13</a>\u001b[0m \u001b[39m    \"\"\"\u001b[39;00m\n\u001b[1;32m---> <a href='vscode-notebook-cell:/c%3A/Users/allan/Desktop/Python/quantification.ipynb#X34sZmlsZQ%3D%3D?line=13'>14</a>\u001b[0m     dist_min\u001b[39m=\u001b[39msys\u001b[39m.\u001b[39mfloat_info\u001b[39m.\u001b[39mmax \u001b[39m# initialisation de dist_cour arbitrairement grand pour simplifier la règle de décision\u001b[39;00m\n\u001b[0;32m     <a href='vscode-notebook-cell:/c%3A/Users/allan/Desktop/Python/quantification.ipynb#X34sZmlsZQ%3D%3D?line=14'>15</a>\u001b[0m     indice\u001b[39m=\u001b[39m\u001b[39m-\u001b[39m\u001b[39m1\u001b[39m \n\u001b[0;32m     <a href='vscode-notebook-cell:/c%3A/Users/allan/Desktop/Python/quantification.ipynb#X34sZmlsZQ%3D%3D?line=17'>18</a>\u001b[0m     \u001b[39mfor\u001b[39;00m i,ci \u001b[39min\u001b[39;00m \u001b[39menumerate\u001b[39m(lst_centre): \u001b[39m# enumerate nous permet d'avoir accès au compteur et à l'objet itéré\u001b[39;00m\n",
      "\u001b[1;31mNameError\u001b[0m: name 'sys' is not defined"
     ]
    }
   ],
   "source": [
    "n=100\n",
    "N=20\n",
    "\n",
    "X_cible=npr.rand(n)\n",
    "\n",
    "lst_centre, lst_proba, dist_tab=kmeans_Lloyd(X=X_cible,N=N,kmax=100)"
   ]
  },
  {
   "cell_type": "code",
   "execution_count": 149,
   "metadata": {},
   "outputs": [],
   "source": [
    "def actu_centre(assignation,centro,N):\n",
    "    centre_actu=np.copy(centro)\n",
    "    Assignation=np.copy(assignation)\n",
    "\n",
    "    for i in range(N):\n",
    "        Tab_temp=np.where(Assignation==centro[i])[0]\n",
    "        tab_temp2=[]\n",
    "        for j in (Tab_temp):\n",
    "            tab_temp2.append(X_cible[j])\n",
    "        if tab_temp2:\n",
    "                centro[i]=np.mean(tab_temp2)\n",
    "        else:\n",
    "            centro[i]=centro[i]\n",
    "    return centre_actu"
   ]
  },
  {
   "cell_type": "code",
   "execution_count": 229,
   "metadata": {},
   "outputs": [],
   "source": [
    "def calculpoids(centre,assignation,N):\n",
    "    centro=np.copy(centre)\n",
    "    Assignation=np.copy(assignation)\n",
    "    Tab_return=np.zeros((N,1))\n",
    "    for i in range(N):\n",
    "        Tab_temp=np.where(Assignation==centro[i])[0]\n",
    "        if(len(Tab_temp)!=0):\n",
    "            Tab_return[i]=1/len(Tab_temp)\n",
    "        else:\n",
    "            Tab_return[i]=0"
   ]
  },
  {
   "cell_type": "code",
   "execution_count": 154,
   "metadata": {},
   "outputs": [],
   "source": [
    "n=100\n",
    "N=20\n",
    "\n",
    "X_cible=npr.rand(n)\n",
    "centro=npr.rand(N)\n",
    "\n",
    "A=kmeans_Lloyd(X=X_cible,N=N)\n"
   ]
  },
  {
   "cell_type": "code",
   "execution_count": 151,
   "metadata": {},
   "outputs": [
    {
     "name": "stdout",
     "output_type": "stream",
     "text": [
      "[0.06970286 0.06970286 0.0876596  0.09155826 0.10329963 0.16042739\n",
      " 0.18011646 0.19242755 0.26199198 0.4049879  0.53638413 0.65454599\n",
      " 0.70636756 0.83144081 0.85955177 0.8929009  0.90491009 0.90998351\n",
      " 0.93933128 0.94721533]\n"
     ]
    },
    {
     "data": {
      "image/png": "[encoded data removed]",
      "text/plain": [
       "<Figure size 432x288 with 1 Axes>"
      ]
     },
     "metadata": {
      "needs_background": "light"
     },
     "output_type": "display_data"
    }
   ],
   "source": [
    "print(A[1])\n",
    "plt.plot(A[1],marker='o')\n",
    "x=np.linspace(0,1,N)\n",
    "plt.plot(x)\n",
    "plt.show()"
   ]
  },
  {
   "cell_type": "code",
   "execution_count": 80,
   "metadata": {},
   "outputs": [
    {
     "data": {
      "text/plain": [
       "array([0.07488368, 0.24169075, 0.39477839, 0.55039712, 0.63577319,\n",
       "       0.7217072 , 0.81223199, 0.88912056, 0.93471624, 0.97474259])"
      ]
     },
     "execution_count": 80,
     "metadata": {},
     "output_type": "execute_result"
    }
   ],
   "source": [
    "n=100\n",
    "N=20\n",
    "\n",
    "X_cible=scipy.stats.norm(n)\n",
    "centro=npr.rand(N)\n",
    "\n",
    "A=kmeans_Lloyd(X=X_cible,N=N)"
   ]
  },
  {
   "cell_type": "code",
   "execution_count": 207,
   "metadata": {},
   "outputs": [
    {
     "name": "stdout",
     "output_type": "stream",
     "text": [
      "[-7.69305355 -4.63279935 -4.63279935 -2.47432643 -2.35372818  1.79553717\n",
      "  2.30478511  2.39802948  2.43432351  3.00280395]\n"
     ]
    }
   ],
   "source": [
    "n=100\n",
    "N=10\n",
    "X_cible=npr.normal(-1,4,n)\n",
    "A=kmeans_Lloyd(X=X_cible,N=N)\n",
    "print(A[1])"
   ]
  },
  {
   "cell_type": "code",
   "execution_count": 208,
   "metadata": {},
   "outputs": [
    {
     "name": "stdout",
     "output_type": "stream",
     "text": [
      "Moyenne :  -0.9851227648609967\n",
      "\n",
      "Variance : 3.650968194587003\n"
     ]
    }
   ],
   "source": [
    "k=list(np.arange(0,N))\n",
    "print(\"Moyenne : \",np.mean(A[1]))\n",
    "print(\"\\nVariance :\",np.std(A[1]))"
   ]
  },
  {
   "cell_type": "code",
   "execution_count": 185,
   "metadata": {},
   "outputs": [],
   "source": [
    "from sklearn.cluster import KMeans"
   ]
  },
  {
   "cell_type": "code",
   "execution_count": 227,
   "metadata": {},
   "outputs": [
    {
     "name": "stdout",
     "output_type": "stream",
     "text": [
      "Moyenne :  -1.102985463839947\n",
      "\n",
      "Variance : 6.23792628233816\n"
     ]
    }
   ],
   "source": [
    "n=100\n",
    "N=10\n",
    "X_cible=npr.normal(-1,4,n).reshape(-1, 1)\n",
    "kmeans = KMeans(n_clusters=N).fit(X_cible)\n",
    "print(\"Moyenne : \",np.mean(kmeans.cluster_centers_))\n",
    "print(\"\\nVariance :\",np.std(kmeans.cluster_centers_))"
   ]
  },
  {
   "cell_type": "code",
   "execution_count": 213,
   "metadata": {},
   "outputs": [
    {
     "data": {
      "text/plain": [
       "[<matplotlib.lines.Line2D at 0x2033a276a00>]"
      ]
     },
     "execution_count": 213,
     "metadata": {},
     "output_type": "execute_result"
    },
    {
     "data": {
      "image/png": "[encoded data removed]",
      "text/plain": [
       "<Figure size 432x288 with 1 Axes>"
      ]
     },
     "metadata": {
      "needs_background": "light"
     },
     "output_type": "display_data"
    }
   ],
   "source": [
    "plt.plot(A[1])\n",
    "plt.plot(np.sort(kmeans.cluster_centers_))"
   ]
  },
  {
   "cell_type": "code",
   "execution_count": 230,
   "metadata": {},
   "outputs": [
    {
     "name": "stdout",
     "output_type": "stream",
     "text": [
      "None\n"
     ]
    }
   ],
   "source": [
    "print(calculpoids(A[1],A[0],N))\n"
   ]
  },
  {
   "cell_type": "code",
   "execution_count": 233,
   "metadata": {},
   "outputs": [],
   "source": [
    "import scipy.spatial.distance as distance"
   ]
  },
  {
   "cell_type": "code",
   "execution_count": 243,
   "metadata": {},
   "outputs": [],
   "source": [
    "n=1000\n",
    "N=100\n",
    "X_cible=npr.normal(0,1,n)\n",
    "centro=npr.choice(X_cible,N)"
   ]
  },
  {
   "cell_type": "code",
   "execution_count": 252,
   "metadata": {},
   "outputs": [
    {
     "ename": "ValueError",
     "evalue": "XA and XB must have the same number of columns (i.e. feature dimension.)",
     "output_type": "error",
     "traceback": [
      "\u001b[1;31m---------------------------------------------------------------------------\u001b[0m",
      "\u001b[1;31mValueError\u001b[0m                                Traceback (most recent call last)",
      "\u001b[1;32mc:\\Users\\allan\\Desktop\\Python\\quantification.ipynb Cell 21\u001b[0m in \u001b[0;36m<cell line: 1>\u001b[1;34m()\u001b[0m\n\u001b[1;32m----> <a href='vscode-notebook-cell:/c%3A/Users/allan/Desktop/Python/quantification.ipynb#X32sZmlsZQ%3D%3D?line=0'>1</a>\u001b[0m distance\u001b[39m.\u001b[39;49mcdist(np\u001b[39m.\u001b[39;49matleast_2d(X_cible),np\u001b[39m.\u001b[39;49matleast_2d(centro))\n",
      "File \u001b[1;32mc:\\Users\\allan\\anaconda3\\lib\\site-packages\\scipy\\spatial\\distance.py:2935\u001b[0m, in \u001b[0;36mcdist\u001b[1;34m(XA, XB, metric, out, **kwargs)\u001b[0m\n\u001b[0;32m   2933\u001b[0m     \u001b[39mraise\u001b[39;00m \u001b[39mValueError\u001b[39;00m(\u001b[39m'\u001b[39m\u001b[39mXB must be a 2-dimensional array.\u001b[39m\u001b[39m'\u001b[39m)\n\u001b[0;32m   2934\u001b[0m \u001b[39mif\u001b[39;00m s[\u001b[39m1\u001b[39m] \u001b[39m!=\u001b[39m sB[\u001b[39m1\u001b[39m]:\n\u001b[1;32m-> 2935\u001b[0m     \u001b[39mraise\u001b[39;00m \u001b[39mValueError\u001b[39;00m(\u001b[39m'\u001b[39m\u001b[39mXA and XB must have the same number of columns \u001b[39m\u001b[39m'\u001b[39m\n\u001b[0;32m   2936\u001b[0m                      \u001b[39m'\u001b[39m\u001b[39m(i.e. feature dimension.)\u001b[39m\u001b[39m'\u001b[39m)\n\u001b[0;32m   2938\u001b[0m mA \u001b[39m=\u001b[39m s[\u001b[39m0\u001b[39m]\n\u001b[0;32m   2939\u001b[0m mB \u001b[39m=\u001b[39m sB[\u001b[39m0\u001b[39m]\n",
      "\u001b[1;31mValueError\u001b[0m: XA and XB must have the same number of columns (i.e. feature dimension.)"
     ]
    }
   ],
   "source": [
    "distance.cdist(np.atleast_2d(X_cible),np.atleast_2d(centro))"
   ]
  },
  {
   "cell_type": "code",
   "execution_count": 231,
   "metadata": {},
   "outputs": [
    {
     "data": {
      "text/plain": [
       "'\\nnpr.seed(1)\\nn=200\\nN=10\\n\\nX_cible=npr.rand(n)\\ncentro=random.choice(X_cible,N) # Choisir des points aléatoires sur la densité cible\\nAssignation=np.zeros((n,1))\\n#print(\"X:\" ,X_cible,\"\\n \\n\")\\n\\nDIST_COUR=[]\\nstockage=[np.copy(centro)]\\ncompt=0\\ndist_cour=1\\n\\nwhile(dist_cour>tol and compt<100):\\n    for i in range(n):\\n        Tab_temp=np.zeros((N,1))\\n        for j in range(N):\\n            Tab_temp[j]=np.abs(X_cible[i]-centro[j])\\n        \\n        K=np.argmin(Tab_temp)\\n        Assignation[i]=centro[K]\\n\\n    print(\"Centre :\",centro,\"\\n \\n\")\\n    print(\"Assignation: \" ,Assignation,\"\\n \\n \\n\")\\n\\n\\n    for i in range(N):\\n            Tab_temp=np.where(Assignation==centro[i])[0]\\n            tab_temp2=[]\\n            for j in (Tab_temp):\\n                tab_temp2.append(X_cible[j])\\n            if tab_temp2:\\n                centro[i]=np.mean(tab_temp2)\\n            else:\\n                centro[i]=centro[i]\\n\\n\\n    compt+=1\\n        \\n    dist_cour=np.mean(np.abs(X_cible-Assignation)**2)\\n    DIST_COUR.append(dist_cour)\\n    print(dist_cour)\\n    print(\"Nouveau Centre: \", centro)\\n\\nstockage.append(np.copy(centro))\\nnp.transpose(stockage)\\nstockage=np.asarray(stockage)\\n#print(\"\\n \\n Stockage: \",stockage,\"\\n\")\\n\\nplt.plot(stockage,\\'o\\',label=\"Oui\")\\nplt.legend()\\nplt.show()\\n'"
      ]
     },
     "execution_count": 231,
     "metadata": {},
     "output_type": "execute_result"
    }
   ],
   "source": [
    "\"\"\"\n",
    "npr.seed(1)\n",
    "n=200\n",
    "N=10\n",
    "\n",
    "X_cible=npr.rand(n)\n",
    "centro=random.choice(X_cible,N) # Choisir des points aléatoires sur la densité cible\n",
    "Assignation=np.zeros((n,1))\n",
    "#print(\"X:\" ,X_cible,\"\\n \\n\")\n",
    "\n",
    "DIST_COUR=[]\n",
    "stockage=[np.copy(centro)]\n",
    "compt=0\n",
    "dist_cour=1\n",
    "\n",
    "while(dist_cour>tol and compt<100):\n",
    "    for i in range(n):\n",
    "        Tab_temp=np.zeros((N,1))\n",
    "        for j in range(N):\n",
    "            Tab_temp[j]=np.abs(X_cible[i]-centro[j])\n",
    "        \n",
    "        K=np.argmin(Tab_temp)\n",
    "        Assignation[i]=centro[K]\n",
    "\n",
    "    print(\"Centre :\",centro,\"\\n \\n\")\n",
    "    print(\"Assignation: \" ,Assignation,\"\\n \\n \\n\")\n",
    "\n",
    "\n",
    "    for i in range(N):\n",
    "            Tab_temp=np.where(Assignation==centro[i])[0]\n",
    "            tab_temp2=[]\n",
    "            for j in (Tab_temp):\n",
    "                tab_temp2.append(X_cible[j])\n",
    "            if tab_temp2:\n",
    "                centro[i]=np.mean(tab_temp2)\n",
    "            else:\n",
    "                centro[i]=centro[i]\n",
    "\n",
    "\n",
    "    compt+=1\n",
    "        \n",
    "    dist_cour=np.mean(np.abs(X_cible-Assignation)**2)\n",
    "    DIST_COUR.append(dist_cour)\n",
    "    print(dist_cour)\n",
    "    print(\"Nouveau Centre: \", centro)\n",
    "\n",
    "stockage.append(np.copy(centro))\n",
    "np.transpose(stockage)\n",
    "stockage=np.asarray(stockage)\n",
    "#print(\"\\n \\n Stockage: \",stockage,\"\\n\")\n",
    "\n",
    "plt.plot(stockage,'o',label=\"Oui\")\n",
    "plt.legend()\n",
    "plt.show()\n",
    "\"\"\"\n"
   ]
  },
  {
   "attachments": {},
   "cell_type": "markdown",
   "metadata": {},
   "source": [
    "1. Item 1\n",
    "2. Item 2 ( we can type 1. and the markdown will automatically numerate them) \n",
    "* First Item\n",
    "  * Nested item 1\n",
    "  * Nested item 2\n",
    "    1. Keep going\n",
    "    1. Yes\n",
    "  \n",
    "* Second Item\n",
    "- First Item\n",
    "- Second Item"
   ]
  },
  {
   "cell_type": "markdown",
   "metadata": {},
   "source": []
  }
 ],
 "metadata": {
  "kernelspec": {
   "display_name": "Python 3",
   "language": "python",
   "name": "python3"
  },
  "language_info": {
   "codemirror_mode": {
    "name": "ipython",
    "version": 3
   },
   "file_extension": ".py",
   "mimetype": "text/x-python",
   "name": "python",
   "nbconvert_exporter": "python",
   "pygments_lexer": "ipython3",
   "version": "3.9.12"
  },
  "orig_nbformat": 4
 },
 "nbformat": 4,
 "nbformat_minor": 2
}
