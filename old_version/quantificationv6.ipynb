{
 "cells": [
  {
   "cell_type": "code",
   "execution_count": 2,
   "metadata": {},
   "outputs": [],
   "source": [
    "import numpy as np\n",
    "import numpy.random as npr\n",
    "import matplotlib.pyplot as plt\n",
    "import scipy.stats\n",
    "from scipy.spatial import Voronoi, voronoi_plot_2d\n"
   ]
  },
  {
   "attachments": {},
   "cell_type": "markdown",
   "metadata": {},
   "source": [
    "# Quantification d'une loi continue"
   ]
  },
  {
   "attachments": {},
   "cell_type": "markdown",
   "metadata": {},
   "source": [
    "Objectif : Minimiser la distortion"
   ]
  },
  {
   "attachments": {},
   "cell_type": "markdown",
   "metadata": {},
   "source": [
    "## 1. Algorithmes pour la quantification scalaire. (dim=1)"
   ]
  },
  {
   "attachments": {},
   "cell_type": "markdown",
   "metadata": {},
   "source": [
    "On définit ci-dessous la fonction plusproche qui va calculer l'indice du centroïde le plus proche d'un point $X_{i}$ de notre échantillon $X_{cible}$.\n",
    "\n",
    "Cette fonction nous sera très utile car elle permet de calculer l'indice du centre le plus proche d'un point en fonction d'une liste de centres que l'on peut actualiser au fur et à mesure.\n",
    "\n",
    "Le principe est le suivant:\n",
    "\n",
    "* Initialisation: on initialise la distance minimal courante au float le plus large et l'indice à -1. Si on le retrouve en sortie d'algorithme on pourra voir s'il y a un problème.\n",
    "\n",
    "* Boucle sur la liste des centroïde: \n",
    "    1. On calcule la distance au centre de la cellule $C_{i}$ \n",
    "    2. On regarde si elle est plus petite que la distance minimale courante\n",
    "    3. On associe l'indice à l'indice courant de la boucle si la condition est vérifiée.\n",
    "\n",
    "\n",
    "\n"
   ]
  },
  {
   "cell_type": "code",
   "execution_count": 3,
   "metadata": {},
   "outputs": [],
   "source": [
    "\n",
    "def plusproche(Xi,lst_centre):\n",
    "    \"\"\"\n",
    "\n",
    "    Entrée:\n",
    "        Xi: Point i de notre échantillon cible parmis n points\n",
    "        lst_centre: Liste des N-quantificateurs au moment de l'appel de la fonction\n",
    "\n",
    "\n",
    "    Sortie:\n",
    "        indice: indice du centroïde le plus proche\n",
    "        dist_min: distance entre le point et le centre le plus proche\n",
    "\n",
    "    \"\"\"\n",
    "    dist_min_cour=float('inf') # initialisation de dist_cour arbitrairement grand pour simplifier la règle de décision\n",
    "    indice=-1 \n",
    "\n",
    "\n",
    "    for i,ci in enumerate(lst_centre): # enumerate nous permet d'avoir accès au compteur et à l'objet itéré\n",
    "        dist=np.abs(Xi-ci)**2 # Pour le cas muiltidimensionnel on remplace cette ligne par \"dist=np.linalg.norm(Xi-ci)**2\"\n",
    "        if(dist<dist_min_cour):\n",
    "            dist_min_cour=dist\n",
    "            indice=i\n",
    "\n",
    "    return indice,dist_min_cour\n",
    "    \n",
    "        "
   ]
  },
  {
   "attachments": {},
   "cell_type": "markdown",
   "metadata": {},
   "source": [
    "Remarques: \n",
    "* On choisit ici de calculer les distances avec $ | X_{i} - C_{i} |^{2} \\ $ en dimension plutôt que la fonction np.linalg.norm car celle-ci rallonge considérablement les calculs.\n",
    "* Cependant dans le cadre multidimensionnel, il faudra utiliser np.linalg.norm."
   ]
  },
  {
   "attachments": {},
   "cell_type": "markdown",
   "metadata": {},
   "source": [
    "### 1.1 Algorithme de Kmeans (dim=1)"
   ]
  },
  {
   "attachments": {},
   "cell_type": "markdown",
   "metadata": {},
   "source": [
    "On définit la fonction kmeans_Lloyd.\n",
    "Le principe de cette fonction est simple:\n",
    "\n",
    "\n",
    "1. On parcourt la liste des points et on recherche pour chaque point son centroïde le plus proche et son indice.\n",
    "2. On actualise les variables courantes Assignation,compteur, dist_total_it.\n",
    "3. On actualise les centres à l'aide des variables courantes.\n",
    "4. On récupère la distortion à l'itération it.\n",
    "5. On passe à l'itération suivante\n",
    "\n",
    "\n",
    "\n",
    "* Les rôles de ces variables courantes sont les suivantes:\n",
    "    * Assignation_cour: somme les points les plus proches des associées au centroïdes d'indice $indice$ récupérée par plusproche\n",
    "    * compteur_cour: compte le nombre de points associée au centroïde numéro $indice$\n",
    "    * dist_cour_it: sommme les distances entre les point et leur centroïdes le plus proche à l'itération it\n",
    "\n"
   ]
  },
  {
   "cell_type": "code",
   "execution_count": 4,
   "metadata": {},
   "outputs": [],
   "source": [
    "def kmeans_Lloyd(X,N,kmax=300):\n",
    "    \n",
    "    \"\"\"\n",
    "    Entrée:\n",
    "        X: Echantillon de taille n x 1 suivant une densité f cible\n",
    "        N: Nombre de quantificateur:\n",
    "        kmax: nombre d'itération max\n",
    "    \n",
    "    Sortie:\n",
    "        lst_centre: liste finale des centroïdes\n",
    "        lst_proba: liste des probabilités associées aux centres\n",
    "        dist_tab: tableau de l'évolution de la distortion\n",
    "\n",
    "\n",
    "    \"\"\"\n",
    "\n",
    "\n",
    "    # Initialisation pour éviter les problèmes d'affectations\n",
    "    X_cible=np.copy(X) # On récupère la taille de l'échantillon\n",
    "    n=len(X_cible)\n",
    "    lst_centre=npr.choice(X_cible,N) # N points choisis aléatoirement parmis l'échantillon\n",
    "    #lst_centre=npr.normal(0,1,N)\n",
    "    lst_centre=np.sort(lst_centre) # Tri des centres pour minimiser le problème de quantificateur isolée auquel aucun point n'est associé\n",
    "\n",
    "    dist_tab=[] # Récupération de l'évolution de la distortion\n",
    "\n",
    "    for it in range(kmax):\n",
    "    # Initialisation des variables courantes à l'itération it\n",
    "        Assignation_cour=np.zeros(N)  # pour une version multidimensionelle on peut remplacer la ligne par \" Assignation_cour=np.zeros((N,X_cible.shape[1]))\"\n",
    "        compteur_cour=np.zeros(N)\n",
    "        dist_total_it=0\n",
    "\n",
    "        for x in X_cible:\n",
    "            indice,dist_x=plusproche(x,lst_centre)\n",
    "\n",
    "            # Actualisation des variables courante pour calculer le nouveau centre associé aux indices et de la distortion\n",
    "            Assignation_cour[indice]=Assignation_cour[indice]+x\n",
    "            compteur_cour[indice]+=1\n",
    "            dist_total_it+=dist_x\n",
    "\n",
    "        # Actualisation des centres\n",
    "        for i in range(N):\n",
    "            if(compteur_cour[i]>0):\n",
    "                lst_centre[i]=Assignation_cour[i]/compteur_cour[i]\n",
    "            else:\n",
    "                lst_centre=lst_centre\n",
    "\n",
    "        dist_tab.append(dist_total_it/(n))\n",
    "\n",
    "    # Calcul des proba de chaque cellules\n",
    "    lst_proba=compteur_cour/n\n",
    "\n",
    "    return lst_centre, lst_proba, dist_tab\n"
   ]
  },
  {
   "attachments": {},
   "cell_type": "markdown",
   "metadata": {},
   "source": [
    "Remarques:\n",
    "1. On se passe de mettre lst_centre en paramètre de la fonction car on les initialise en les choisissant parmis la liste X, ou bien, comme on connait la densité on peut directement les choisir suivant la densité.\n",
    "2. L'étape la plus longue de cette algorithme, comme dit dans le LaTeX, est le calcul de plusproche. C'est pourquoi, pour avoir des temps de calculs raisonnables avec des grands échantillons X, il faut optimiser cette fonction."
   ]
  },
  {
   "attachments": {},
   "cell_type": "markdown",
   "metadata": {},
   "source": [
    "#### 1.1.1 La loi uniforme sur $[0,1]$"
   ]
  },
  {
   "cell_type": "code",
   "execution_count": 5,
   "metadata": {},
   "outputs": [],
   "source": [
    "n=1000\n",
    "N=20\n",
    "X_cible=npr.rand(n)\n",
    "\n",
    "lst_centre_u_1d, lst_proba_u_1d, dist_tab_u_1d=kmeans_Lloyd(X=X_cible,N=N,kmax=300)"
   ]
  },
  {
   "cell_type": "code",
   "execution_count": 6,
   "metadata": {},
   "outputs": [
    {
     "data": {
      "image/png": "[encoded data removed]",
      "text/plain": [
       "<Figure size 432x288 with 1 Axes>"
      ]
     },
     "metadata": {
      "needs_background": "light"
     },
     "output_type": "display_data"
    }
   ],
   "source": [
    "plt.plot(dist_tab_u_1d)\n",
    "plt.show()"
   ]
  },
  {
   "attachments": {},
   "cell_type": "markdown",
   "metadata": {},
   "source": [
    "#### 1.1.2 La loi normal centrée réduite"
   ]
  },
  {
   "cell_type": "code",
   "execution_count": 7,
   "metadata": {},
   "outputs": [],
   "source": [
    "n=1000\n",
    "N=20\n",
    "X_cible=npr.normal(0,1,n)\n",
    "\n",
    "lst_centre_n_1d, lst_proba_n_1d, dist_tab_n_1d=kmeans_Lloyd(X=X_cible,N=N,kmax=300)"
   ]
  },
  {
   "cell_type": "code",
   "execution_count": 8,
   "metadata": {},
   "outputs": [
    {
     "data": {
      "text/plain": [
       "[<matplotlib.lines.Line2D at 0x1eeda9cddc0>]"
      ]
     },
     "execution_count": 8,
     "metadata": {},
     "output_type": "execute_result"
    },
    {
     "data": {
      "image/png": "[encoded data removed]",
      "text/plain": [
       "<Figure size 432x288 with 1 Axes>"
      ]
     },
     "metadata": {
      "needs_background": "light"
     },
     "output_type": "display_data"
    }
   ],
   "source": [
    "plt.plot(dist_tab_n_1d)"
   ]
  },
  {
   "cell_type": "code",
   "execution_count": 9,
   "metadata": {},
   "outputs": [],
   "source": [
    "## Code représentation 1d"
   ]
  },
  {
   "attachments": {},
   "cell_type": "markdown",
   "metadata": {},
   "source": [
    "Quelques remarques:\n",
    "\n",
    "1. On a choisit 1000 points et 300 itérations et on a déjà une dizaine de secondes de calculs (selon la puissance de la machine). On peut voir que si l'on augmente la taille de l'échantillon, on peut avoir des temps de calculs très long. ( voir la suite )\n",
    "2. On peut voir que la distortion ne plus quasiment plus à partir de la vingtième itération.\n"
   ]
  },
  {
   "cell_type": "code",
   "execution_count": 10,
   "metadata": {},
   "outputs": [
    {
     "name": "stdout",
     "output_type": "stream",
     "text": [
      "Différence entre la distortion[20] et distortion[200] de la loi centrée réduite: \n",
      " 0.001870784638732751 \n",
      " \n",
      "\n",
      "Différence entre la distortion[20] et distortion[200] de la loi uniforme sur [0,1]: \n",
      "  1.940504345713872e-06\n"
     ]
    }
   ],
   "source": [
    "print(\"Différence entre la distortion[20] et distortion[200] de la loi centrée réduite: \\n\",dist_tab_n_1d[20]-dist_tab_n_1d[200],\"\\n \\n\")\n",
    "print(\"Différence entre la distortion[20] et distortion[200] de la loi uniforme sur [0,1]: \\n \",dist_tab_u_1d[20]-dist_tab_u_1d[200])\n"
   ]
  },
  {
   "attachments": {},
   "cell_type": "markdown",
   "metadata": {},
   "source": [
    "3. Cependant, comme illustrer ci dessus il est difficile d'introduire un critère d'arrêt car la fin de la forte décroissance de la distortion dépend de l'échantillon que l'on étudie."
   ]
  },
  {
   "attachments": {},
   "cell_type": "markdown",
   "metadata": {},
   "source": [
    "### 1.2 Algorithme du gradient déterministe"
   ]
  },
  {
   "attachments": {},
   "cell_type": "markdown",
   "metadata": {},
   "source": [
    "#### 1.2.1 La loi normale centrée réduite\n",
    "\n",
    "Concentrons nous sur le cas de la loi normale.\n",
    "\n",
    "Tout d'abord, il faut calculer la direction de descente donnée par la fonction grad_list ci-dessous. (voir le LaTeX pour la formule explicite)\n",
    "\n",
    "\n"
   ]
  },
  {
   "cell_type": "code",
   "execution_count": 11,
   "metadata": {},
   "outputs": [],
   "source": [
    "def grad_list(lst_centre):    \n",
    "    N=len(lst_centre)\n",
    "    grad=np.zeros(N)\n",
    "    phi_plus=np.zeros(N)\n",
    "    phi_moins=np.zeros(N)\n",
    "    densi_plus=np.zeros(N)\n",
    "    densi_moins=np.zeros(N)\n",
    "    \n",
    "    #On s'occupe d'abord des bords de la liste comme on actualise centre par rapport au précedent et au suivant dans la liste \n",
    "    \n",
    "    grad[0]=lst_centre[0]*(scipy.stats.norm.cdf((lst_centre[0]+lst_centre[1])/2))+scipy.stats.norm.pdf((lst_centre[0]+lst_centre[1])/2)\n",
    "    grad[N-1]=-lst_centre[N-1]*scipy.stats.norm.cdf((lst_centre[N-1]+lst_centre[N-2])/2)-scipy.stats.norm.pdf((lst_centre[N-1]+lst_centre[N-2])/2)\n",
    "    \n",
    "    for i in range(1,N-1):\n",
    "        phi_plus[i]=scipy.stats.norm.cdf((lst_centre[i]+lst_centre[i+1])/2)\n",
    "        phi_moins[i]=scipy.stats.norm.cdf((lst_centre[i]+lst_centre[i-1])/2)\n",
    "        densi_plus[i]=scipy.stats.norm.pdf((lst_centre[i]+lst_centre[i+1])/2)\n",
    "        densi_moins[i]=scipy.stats.norm.pdf((lst_centre[i]+lst_centre[i-1])/2)\n",
    "        \n",
    "        \n",
    "    grad=lst_centre*(phi_plus-phi_moins)+densi_plus-densi_moins\n",
    "    return grad"
   ]
  },
  {
   "attachments": {},
   "cell_type": "markdown",
   "metadata": {},
   "source": [
    "La méthode de gradient déterministe est donnée par la fonction method_Grad_normal.\n",
    "\n",
    "Le principe est le suivant:\n",
    "\n",
    "* On actualise les centres avec la formule suivante: lst_centre=lst_centre-gamma*grad_list(lst_centre)\n",
    "* On calcule la distortion et on la stocke à l'aide des mêmes variables courantes que pour kmeans en dimension 1 (sauf Assignation_cour car nous n'en avons pas besoin).\n",
    "* On passe à la itération suivante"
   ]
  },
  {
   "cell_type": "code",
   "execution_count": 12,
   "metadata": {},
   "outputs": [],
   "source": [
    "def method_Grad_normal(X,N,gammainit,kmax=300):\n",
    "\n",
    "    \"\"\"\"\n",
    "    Entrée:\n",
    "       Entrée:\n",
    "        X: Echantillon de taille n x 1 suivant une densité f cible\n",
    "        N: Nombre de quantificateur:\n",
    "        gammainit: valeur du pas\n",
    "        kmax: nombre d'itération max\n",
    "        \n",
    "    Sortie:\n",
    "        lst_centre: liste finale des centroïdes ajustée à l'aide d'un gradient à pas déterministe\n",
    "        lst_proba: liste des probabilités associées aux centres\n",
    "        dist_tab: tableau de l'évolution de la distortion\n",
    "\n",
    "    \"\"\"\n",
    "    # Initialisation pour éviter les problèmes d'affectations\n",
    "    X_cible=np.copy(X)\n",
    "    lst_centre=npr.normal(0, 1, N)\n",
    "    lst_centre = np.sort(lst_centre)\n",
    "    dist_cour=1\n",
    "    dist_tab=[]\n",
    "    compteur_cour=np.zeros(N)\n",
    "    it=1\n",
    "    \n",
    "    while(it<kmax):\n",
    "        compteur_cour=np.zeros(N)\n",
    "        dist_cour=0\n",
    "        gamma=gammainit\n",
    "        lst_centre=lst_centre-gamma*grad_list(lst_centre)\n",
    "        \n",
    "        for x in X_cible:\n",
    "            indice,dist_x=plusproche(x,lst_centre)\n",
    "            dist_cour=dist_cour+dist_x\n",
    "            compteur_cour[indice]+=1\n",
    "        dist_tab.append(dist_cour/n)\n",
    "        it+=1        \n",
    "    lst_proba=compteur_cour/n\n",
    "    if(it!=kmax):\n",
    "        print(\"itération max non atteinte !\")\n",
    "    return lst_centre,lst_proba,dist_tab"
   ]
  },
  {
   "cell_type": "code",
   "execution_count": 13,
   "metadata": {},
   "outputs": [],
   "source": [
    "npr.seed(200)\n",
    "n=1000\n",
    "N=20\n",
    "X_cible=npr.normal(0,1,n)\n",
    "\n",
    "lst_centre_grad, lst_proba_grad, dist_tab_grad=method_Grad_normal(X_cible,N,0.9,kmax=300)"
   ]
  },
  {
   "cell_type": "code",
   "execution_count": 14,
   "metadata": {},
   "outputs": [
    {
     "data": {
      "text/plain": [
       "[<matplotlib.lines.Line2D at 0x1eedaa564f0>]"
      ]
     },
     "execution_count": 14,
     "metadata": {},
     "output_type": "execute_result"
    },
    {
     "data": {
      "image/png": "[encoded data removed]",
      "text/plain": [
       "<Figure size 432x288 with 1 Axes>"
      ]
     },
     "metadata": {
      "needs_background": "light"
     },
     "output_type": "display_data"
    }
   ],
   "source": [
    "plt.plot(dist_tab_grad)"
   ]
  },
  {
   "attachments": {},
   "cell_type": "markdown",
   "metadata": {},
   "source": [
    "Remarques:\n",
    "1. On a sensiblement le même temps de calcul car on utilise autant de fois la fonction plusproche.\n",
    "2. Le défi de cette algorithme est de trouvé le pas le plus adapté pour minimiser la distortion le plus rapidement possible."
   ]
  },
  {
   "cell_type": "code",
   "execution_count": 15,
   "metadata": {},
   "outputs": [],
   "source": [
    "## Code représentation 1d"
   ]
  },
  {
   "cell_type": "code",
   "execution_count": 16,
   "metadata": {},
   "outputs": [],
   "source": [
    "x=np.linspace(0,1,20)\n",
    "min_tab=[]\n",
    "for gamma_i in x:\n",
    "    lst_centre_grad, lst_proba_grad, dist_tab_grad=method_Grad_normal(X_cible,N,gamma_i,kmax=300)\n",
    "    min_tab.append(dist_tab_grad[-1])\n"
   ]
  },
  {
   "cell_type": "code",
   "execution_count": 50,
   "metadata": {},
   "outputs": [
    {
     "data": {
      "text/plain": [
       "[<matplotlib.lines.Line2D at 0x1eedc4a68b0>]"
      ]
     },
     "execution_count": 50,
     "metadata": {},
     "output_type": "execute_result"
    },
    {
     "data": {
      "image/png": "[encoded data removed]",
      "text/plain": [
       "<Figure size 432x288 with 1 Axes>"
      ]
     },
     "metadata": {
      "needs_background": "light"
     },
     "output_type": "display_data"
    }
   ],
   "source": [
    "plt.plot(x,min_tab)"
   ]
  },
  {
   "attachments": {},
   "cell_type": "markdown",
   "metadata": {},
   "source": [
    "## 2. Algorithmes pour la quantification vectorielle"
   ]
  },
  {
   "attachments": {},
   "cell_type": "markdown",
   "metadata": {},
   "source": [
    "On propose une version beaucoup plus optimisée de plusplus en dimension supérieure afin de limiter les temps de calculs dû au passage à une dimension supérieure."
   ]
  },
  {
   "cell_type": "code",
   "execution_count": 18,
   "metadata": {},
   "outputs": [],
   "source": [
    "def plusproche_d(Xi,lst_centre):\n",
    "    \"\"\"\n",
    "    Entrée:\n",
    "        Xi: Point i de notre échantillon cible parmis n points\n",
    "        lst_centre: Liste des N-quantificateurs au moment de l'appel de la fonction\n",
    "\n",
    "\n",
    "    Sortie:\n",
    "        indice: indice du centroïde le plus proche\n",
    "        dist_min: distance entre le point et le centre le plus proche\n",
    "\n",
    "    \"\"\"\n",
    "    \n",
    "    indice=-1 \n",
    "    dist_tab = np.linalg.norm(lst_centre - Xi, axis=1)\n",
    "    indice = dist_tab.argmin()\n",
    "    \n",
    "    return indice, dist_tab[indice]\n",
    "    "
   ]
  },
  {
   "attachments": {},
   "cell_type": "markdown",
   "metadata": {},
   "source": [
    "### 2.1 Algorthimes de kmeans\n",
    "\n",
    "On redéfinit de la même manière kmeans en dimension 2 pour un échantillon gaussien centrée réduit."
   ]
  },
  {
   "cell_type": "code",
   "execution_count": 19,
   "metadata": {},
   "outputs": [],
   "source": [
    "def kmeans_Lloyd_d(X,n,N,kmax=300):\n",
    "    \n",
    "    \"\"\"\n",
    "    Entrée:\n",
    "        X: Echantillon de taille n x m suivant une densité f cible\n",
    "        N: Nombre de quantificateur:\n",
    "        kmax: nombre d'itération max\n",
    "    \n",
    "    Sortie:\n",
    "        lst_centre: liste finale des centroïdes selon l'algorithme de kmeans\n",
    "        lst_proba: liste des probabilités associées aux centres\n",
    "        dist_tab: Tableau de l'évolution de la distortion\n",
    "\n",
    "\n",
    "    \"\"\"\n",
    "\n",
    "\n",
    "    # Initialisation pour éviter les problèmes d'affectations\n",
    "    X_cible=np.copy(X) # On récupère la taille de l'échantillon\n",
    "    lst_centre=npr.normal(0, 1, size=[N, 2]) # size = [N,d] pour la dimension d\n",
    "    \n",
    "\n",
    "    dist_tab=[] # Récupération de l'évolution de la distortion\n",
    "\n",
    "    for it in range(kmax):\n",
    "    # Initialisation des variables courantes à l'itération it\n",
    "        Assignation_cour=np.zeros((N,2)) # idem que pour lst_centre\n",
    "        compteur_cour=np.zeros(N)\n",
    "        dist_total_it=0\n",
    "\n",
    "        for x in X_cible:\n",
    "            indice,dist_x=plusproche_d(x,lst_centre)\n",
    "\n",
    "            # Actualisation des variables courante pour calculer le nouveau centre associé aux indices et de la distortion\n",
    "            Assignation_cour[indice]=Assignation_cour[indice]+x\n",
    "            compteur_cour[indice]+=1\n",
    "            dist_total_it+=dist_x\n",
    "\n",
    "        # Actualisation des centres\n",
    "        for i in range(N):\n",
    "            if(compteur_cour[i]>0):\n",
    "                lst_centre[i]=Assignation_cour[i]/compteur_cour[i]\n",
    "            else:\n",
    "                lst_centre=lst_centre\n",
    "\n",
    "        dist_tab.append(dist_total_it/(2*n))\n",
    "\n",
    "    # Calcul des proba de chaque cellules\n",
    "    lst_proba=compteur_cour/n\n",
    "\n",
    "    return lst_centre, lst_proba, dist_tab\n"
   ]
  },
  {
   "cell_type": "code",
   "execution_count": 20,
   "metadata": {},
   "outputs": [],
   "source": [
    "n=1000\n",
    "N=10\n",
    "X_cible=npr.normal(0,1,size=[n,2])\n",
    "\n",
    "lst_centre_n_2d, lst_proba_n_2d, dist_tab_n_2d=kmeans_Lloyd_d(X_cible,n,N,300)"
   ]
  },
  {
   "cell_type": "code",
   "execution_count": 21,
   "metadata": {},
   "outputs": [
    {
     "name": "stdout",
     "output_type": "stream",
     "text": [
      "0.25081601411942867\n"
     ]
    },
    {
     "data": {
      "image/png": "[encoded data removed]",
      "text/plain": [
       "<Figure size 432x288 with 1 Axes>"
      ]
     },
     "metadata": {
      "needs_background": "light"
     },
     "output_type": "display_data"
    }
   ],
   "source": [
    "plt.plot(dist_tab_n_2d,marker='.')\n",
    "print(min(dist_tab_n_2d))"
   ]
  },
  {
   "cell_type": "code",
   "execution_count": 22,
   "metadata": {},
   "outputs": [
    {
     "data": {
      "image/png": "[encoded data removed]",
      "text/plain": [
       "<Figure size 432x288 with 1 Axes>"
      ]
     },
     "metadata": {
      "needs_background": "light"
     },
     "output_type": "display_data"
    }
   ],
   "source": [
    "vor=Voronoi(lst_centre_n_2d)\n",
    "fig = voronoi_plot_2d(vor,show_vertices=False)\n",
    "plt.show()"
   ]
  },
  {
   "attachments": {},
   "cell_type": "markdown",
   "metadata": {},
   "source": [
    "### 2.2 Competitive Learning Vector Quantization (CLVQ)"
   ]
  },
  {
   "attachments": {},
   "cell_type": "markdown",
   "metadata": {},
   "source": [
    "Le choix du pas est crucial dans notre problème pour s'assurer que l'algorithme converge en un nombre raisonnable d'itérations. Nous décidons de le définir suivant l'expression de 3.2.2 de Optimal quadratic quantization for numerics: the Gaussian\n",
    "case.Gilles PAGES,Jacques PRINTEMS"
   ]
  },
  {
   "attachments": {},
   "cell_type": "markdown",
   "metadata": {},
   "source": [
    "Principe de l'algorithme:\n",
    "\n",
    "* On recherche le centroïde le plus proche d'un point Xi à l'aide de la fonction plusproche_d\n",
    "* On actualise $\\gamma_n$ qui est notre pas en fonction de l'itération et de N (nombre de centres)\n",
    "* On actualise le centre le plus proche selon la formule (voir le LaTeX, 2.2 Algorithme pour la quantification verctorielle)\n",
    "* On passe au point suivant.\n",
    "\n",
    "Une fois tout les points itérés, on passe à l'itération suivante\n",
    "\n",
    "Bien évidemment comme pour les autres algorithmes, on récupère la distortion à l'itération it, et les probabilités à la toute fin à l'aide de compteur_cour."
   ]
  },
  {
   "cell_type": "code",
   "execution_count": 42,
   "metadata": {},
   "outputs": [],
   "source": [
    "def gamma_n(it,N):\n",
    "    gamma_0=0.01\n",
    "    a = 4.0 * N\n",
    "    b = np.pi ** 2 / N \n",
    "    return gamma_0*a/(a+b*it)"
   ]
  },
  {
   "cell_type": "code",
   "execution_count": 43,
   "metadata": {},
   "outputs": [],
   "source": [
    "def CLVQ_normal(X,n,N,kmax=100):\n",
    "    \"\"\"\n",
    "    \n",
    "    Entrée:\n",
    "        X: Echantillon de taille n x m suivant une densité f cible\n",
    "        N: Nombre de quantificateur:\n",
    "        kmax: nombre d'itération max\n",
    "    \n",
    "    Sortie: \n",
    "        lst_centre: liste finale des centroïdes ajustée selon l'algorithme CLVQ\n",
    "        lst_proba: liste des probabilités associées aux centres\n",
    "        dist_tab: Tableau de l'évolution de la distortion\n",
    "\n",
    "    \"\"\"\n",
    "\n",
    "\n",
    "\n",
    "    X_cible=np.copy(X) # On récupère la taille de l'échantillon\n",
    "    lst_centre=npr.normal(0, 1, size=[N, 2])\n",
    "\n",
    "\n",
    "    dist_tab=[] # Récupération de l'évolution de la distortion\n",
    "\n",
    "    for it in range(kmax):\n",
    "    # Initialisation des variables courantes à l'itération it\n",
    "\n",
    "        compteur_cour=np.zeros(N)\n",
    "        dist_total_it=0\n",
    "        for x in X_cible:\n",
    "            #Phase de compétition\n",
    "            indice,dist_x=plusproche_d(x,lst_centre)\n",
    "\n",
    "            #Phase d'apprentissage            \n",
    "            lst_centre[indice]=lst_centre[indice]-gamma_n(it,N)*(lst_centre[indice]-x)\n",
    "            \n",
    "            # Actualisation des variables courante pour calculer le nouveau centre associé aux indices et de la distortion\n",
    "            compteur_cour[indice]+=1\n",
    "            dist_total_it+=dist_x\n",
    "        dist_tab.append(dist_total_it/(2*n))\n",
    "    # Calcul des proba de chaque cellules\n",
    "    lst_proba=compteur_cour/n\n",
    "\n",
    "    return lst_centre, lst_proba, dist_tab\n"
   ]
  },
  {
   "cell_type": "code",
   "execution_count": 44,
   "metadata": {},
   "outputs": [],
   "source": [
    "npr.seed(0)\n",
    "n=1000\n",
    "N=10\n",
    "X_cible=npr.normal(0,1,size=[n,2])\n",
    "\n",
    "lst_centre_clvq, lst_proba_clvq, dist_tab_clvq=CLVQ_normal(X_cible,n,N,300)"
   ]
  },
  {
   "cell_type": "code",
   "execution_count": 45,
   "metadata": {},
   "outputs": [
    {
     "name": "stdout",
     "output_type": "stream",
     "text": [
      "0.2456472598844701\n"
     ]
    },
    {
     "data": {
      "image/png": "[encoded data removed]",
      "text/plain": [
       "<Figure size 432x288 with 1 Axes>"
      ]
     },
     "metadata": {
      "needs_background": "light"
     },
     "output_type": "display_data"
    }
   ],
   "source": [
    "plt.plot(dist_tab_clvq,color=\"red\",marker='.')\n",
    "print(min(dist_tab_clvq))"
   ]
  },
  {
   "cell_type": "code",
   "execution_count": 46,
   "metadata": {},
   "outputs": [
    {
     "data": {
      "image/png": "[encoded data removed]",
      "text/plain": [
       "<Figure size 432x288 with 1 Axes>"
      ]
     },
     "metadata": {
      "needs_background": "light"
     },
     "output_type": "display_data"
    }
   ],
   "source": [
    "vor2=Voronoi(lst_centre_clvq)\n",
    "fig = voronoi_plot_2d(vor2,show_vertices=False)\n",
    "plt.show()"
   ]
  },
  {
   "attachments": {},
   "cell_type": "markdown",
   "metadata": {},
   "source": [
    "Nous pouvons voir que globalement, nous avons le même ordre de grandeur pour la distortion dans pour les 2 algorithmes CLVQ et Kmeans. Cependant, on peut voir que la décroissance de la distortion de CLVQ continue tandis que celle de Kmean ne bouge plus."
   ]
  },
  {
   "cell_type": "code",
   "execution_count": 47,
   "metadata": {},
   "outputs": [
    {
     "data": {
      "text/plain": [
       "<matplotlib.legend.Legend at 0x1eedb3892b0>"
      ]
     },
     "execution_count": 47,
     "metadata": {},
     "output_type": "execute_result"
    },
    {
     "data": {
      "image/png": "[encoded data removed]",
      "text/plain": [
       "<Figure size 432x288 with 1 Axes>"
      ]
     },
     "metadata": {
      "needs_background": "light"
     },
     "output_type": "display_data"
    }
   ],
   "source": [
    "plt.plot(dist_tab_clvq,color=\"red\",marker='.',label=\"CLVQ\")\n",
    "plt.plot(dist_tab_n_2d,color=\"blue\",marker='.',label=\"kmeans\")\n",
    "plt.legend()"
   ]
  },
  {
   "attachments": {},
   "cell_type": "markdown",
   "metadata": {},
   "source": [
    "De plus, CLVQ peut-être encore améliorer en ajustant le paramètre $\\gamma_n$. Voyons avec plus de points et de centres."
   ]
  },
  {
   "cell_type": "code",
   "execution_count": 49,
   "metadata": {},
   "outputs": [
    {
     "data": {
      "image/png": "[encoded data removed]",
      "text/plain": [
       "<Figure size 432x288 with 1 Axes>"
      ]
     },
     "metadata": {
      "needs_background": "light"
     },
     "output_type": "display_data"
    }
   ],
   "source": [
    "\n",
    "n=10000\n",
    "N=50\n",
    "X_cible=npr.normal(0,1,size=[n,2])\n",
    "\n",
    "lst_centre_clvq2, lst_proba_clvq2, dist_tab_clvq2=CLVQ_normal(X_cible,n,N,300)\n",
    "lst_centre_n_2d2, lst_proba_n_2d2, dist_tab_n_2d2=kmeans_Lloyd_d(X_cible,n,N,300)\n",
    "\n",
    "plt.plot(dist_tab_clvq2,color=\"red\",marker='.',label=\"CLVQ\")\n",
    "plt.plot(dist_tab_n_2d2,color=\"blue\",marker='.',label=\"kmeans\")\n",
    "plt.title(\"Loi normale, n=10000,N=50\")\n",
    "plt.legend()\n",
    "plt.show()"
   ]
  },
  {
   "attachments": {},
   "cell_type": "markdown",
   "metadata": {},
   "source": []
  }
 ],
 "metadata": {
  "kernelspec": {
   "display_name": "Python 3 (ipykernel)",
   "language": "python",
   "name": "python3"
  },
  "language_info": {
   "codemirror_mode": {
    "name": "ipython",
    "version": 3
   },
   "file_extension": ".py",
   "mimetype": "text/x-python",
   "name": "python",
   "nbconvert_exporter": "python",
   "pygments_lexer": "ipython3",
   "version": "3.9.12"
  }
 },
 "nbformat": 4,
 "nbformat_minor": 4
}
